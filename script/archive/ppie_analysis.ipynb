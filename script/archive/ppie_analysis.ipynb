{
  "cells": [
    {
      "cell_type": "code",
      "execution_count": null,
      "metadata": {
        "colab": {
          "base_uri": "https://localhost:8080/"
        },
        "id": "zPL4TDqMODNU",
        "outputId": "69a6a2ba-d881-4d9f-f2f3-5ac692fa8513"
      },
      "outputs": [],
      "source": [
        "# Install Sweetviz\n",
        "!pip install sweetviz\n",
        "\n"
      ]
    },
    {
      "cell_type": "code",
      "execution_count": null,
      "metadata": {
        "id": "YXEKigNcPBV5"
      },
      "outputs": [],
      "source": [
        "# Import necessary libraries\n",
        "\n",
        "import pandas as pd\n",
        "import sweetviz as sv\n",
        "import numpy as np\n",
        "import matplotlib.pyplot as plt\n",
        "import seaborn as sns\n",
        "from matplotlib.ticker import PercentFormatter\n",
        "import statsmodels.api as sm\n",
        "import statsmodels.formula.api as smf"
      ]
    },
    {
      "cell_type": "code",
      "execution_count": null,
      "metadata": {
        "id": "asih-9PZPIhs"
      },
      "outputs": [],
      "source": [
        "# Load your dataset into a Pandas DataFrame (replace 'your_dataset.csv' with your file)\n",
        "df = pd.read_excel(r'C:\\Users\\Shardul\\OneDrive - London Business School\\coding\\anya\\data\\SBRI P2 PPIE survey responses.xlsx')\n",
        "df_encoded = pd.read_excel(r'C:\\Users\\Shardul\\OneDrive - London Business School\\coding\\anya\\data\\ppie-cleaned-v2.xlsx')"
      ]
    },
    {
      "cell_type": "code",
      "execution_count": null,
      "metadata": {
        "id": "Z51DZpRTgN31"
      },
      "outputs": [],
      "source": [
        "# # Delete rows 1 and 3\n",
        "# df = df.drop([1, 3])\n",
        "\n",
        "# # Make the second row the header\n",
        "# new_header = df.iloc[0] # Grab the first row for the header\n",
        "# df = df[1:] # Take the data excluding the header row\n",
        "# df.columns = new_header # Set the header row as the DataFrame header\n",
        "\n",
        "# # Reset index\n",
        "# df.reset_index(drop=True, inplace=True)\n",
        "\n"
      ]
    },
    {
      "cell_type": "code",
      "execution_count": null,
      "metadata": {
        "colab": {
          "base_uri": "https://localhost:8080/"
        },
        "id": "mvDzE8u8iCK-",
        "outputId": "fe230af9-fdd3-40e9-88de-a88a419ae2ad"
      },
      "outputs": [],
      "source": [
        "# # Check for duplicate column names\n",
        "# duplicate_columns = df.columns[df.columns.duplicated()]\n",
        "# if len(duplicate_columns) > 0:\n",
        "#     print(\"Duplicate column names detected:\")\n",
        "#     for col_name in duplicate_columns:\n",
        "#         print(col_name)\n",
        "# else:\n",
        "#     print(\"No duplicate column names found.\")"
      ]
    },
    {
      "cell_type": "code",
      "execution_count": null,
      "metadata": {
        "colab": {
          "base_uri": "https://localhost:8080/",
          "height": 49,
          "referenced_widgets": [
            "6c462d880b014fb4bd4ecf5895ef773f",
            "a679ab6cec68451fa0d64e55e9e1eccf",
            "2327ffe203b74ecb9a9ee132014f504a",
            "118b107b1ee5484b8a8cd06b1506dd47",
            "1425e703554048b8bdbfd62e961c6888",
            "47835c3cd0c04b9eb91ee150f6ff248b",
            "67fddb101a224126af44555cc9fb14df",
            "49f7878556e9403cb5ca37888a1ee151",
            "00300084de4c45d6afbf928ce4d59281",
            "e0bc8490ea524bb9aa0e5a41d0c13c95",
            "a81b089f31aa4702a220d1eb4a1c121c"
          ]
        },
        "id": "Yu8kkoSbPIkN",
        "outputId": "f365d623-0b6e-4db7-ccfc-02877f308b08"
      },
      "outputs": [],
      "source": [
        "# # Generate the Sweetviz report\n",
        "# report = sv.analyze(df_encoded, pairwise_analysis='off')"
      ]
    },
    {
      "cell_type": "code",
      "execution_count": null,
      "metadata": {
        "colab": {
          "base_uri": "https://localhost:8080/"
        },
        "id": "8b7x4KBhPInn",
        "outputId": "bb354f85-71ca-4bcc-f1ef-49c52b24a643"
      },
      "outputs": [],
      "source": [
        "# # Display the report\n",
        "# report.show_html('report_renamed.html')"
      ]
    },
    {
      "cell_type": "code",
      "execution_count": null,
      "metadata": {
        "id": "kdlGomE4cRKH"
      },
      "outputs": [],
      "source": [
        "# # Drop columns with 100% missing values\n",
        "# df.dropna(axis=1, how='all', inplace=True)"
      ]
    },
    {
      "cell_type": "code",
      "execution_count": null,
      "metadata": {
        "id": "UdGKEriBaeRM"
      },
      "outputs": [],
      "source": [
        "# from sklearn.preprocessing import LabelEncoder\n",
        "\n",
        "# # Create a label encoder object\n",
        "# label_encoder = LabelEncoder()\n",
        "\n",
        "# df_encoded = df.copy()\n",
        "\n",
        "# #Iterate through each column in the DataFrame\n",
        "# for column in df_encoded.columns:\n",
        "#     # Check if the column contains categorical data\n",
        "#     if df_encoded[column].dtype == 'object':\n",
        "#         # Use label encoding to convert categorical variables to numerical\n",
        "#         df_encoded[column] = label_encoder.fit_transform(df_encoded[column])\n",
        "\n",
        "# # # Calculate standard deviation for numerical columns\n",
        "# # numerical_sd = df.select_dtypes(include=['number']).std()\n",
        "\n",
        "# # # Combine the results into a single DataFrame\n",
        "# # variability_df = pd.concat([numerical_sd], axis=1)\n",
        "# # variability_df.columns = ['Standard Deviation']\n",
        "\n",
        "# # # Sort the DataFrame by standard deviation in ascending order\n",
        "# # least_sd = variability_df.sort_values(by='Standard Deviation', ascending=True)\n",
        "\n",
        "# # # Sort the DataFrame by standard deviation in descending order\n",
        "# # highest_sd = variability_df.sort_values(by='Standard Deviation', ascending=False)\n",
        "\n",
        "# # print(\"Columns with least standard deviation:\")\n",
        "# # print(least_sd)\n",
        "\n",
        "# # print(\"\\nColumns with highest standard deviation:\")\n",
        "# # print(highest_sd)\n",
        "\n",
        "# # least_sd\n",
        "\n",
        "# # least_sd.to_excel('least_sd.xlsx')\n",
        "# # least_sd\n"
      ]
    },
    {
      "cell_type": "code",
      "execution_count": null,
      "metadata": {
        "id": "5I1EwiSggzgj"
      },
      "outputs": [],
      "source": [
        "# Dictionary mapping original column names to concise ones\n",
        "column_mapping = {\n",
        "    \"1 - In this survey, we want to hear views from parents who gave birth, and partners. Are you the birthing parent or the partner?\": \"birthing_parent_or_partner\",\n",
        "    \"2 - Which best describes your gender?\": \"gender\",\n",
        "    \"3 - Which of these describes you best?\": \"pregnancy_stage\",\n",
        "    \"4 - Roughly how many weeks pregnant were you when you (or your partner) notified this pregnancy to a health professional?\": \"anc_weeks_pregnant_notified\",\n",
        "    \"5 - Where did you primarily get information about your options for where to give birth?\": \"anc_birth_info_source\",\n",
        "    \"6 - How satisfied were you with the information you got from your healthcare provider about your birth options?\": \"anc_satisfaction_birth_info\",\n",
        "    \"7 - At your antenatal appointments, how often did you see or speak to the same health professional?\": \"anc_repeat_provider_frequency\",\n",
        "    \"8 - How did the majority of your antenatal appointments take place?\": \"anc_antenatal_appointment_mode\",\n",
        "    \"9 - How easy was it for you to attend your antenatal appointments?\": \"anc_antenatal_attendance_ease\",\n",
        "    \"10 - Please tell us why it was not easy to access your appointments.\": \"anc_antenatal_access_issues\",\n",
        "    \"11 - During your antenatal appointments, did your health professional appear to be aware of your medical history?\": \"anc_provider_aware_medical_history\",\n",
        "    \"12 - During your antenatal appointments, were you given enough time to ask questions about pregnancy, birth and parenting?\": \"anc_antenatal_question_time\",\n",
        "    \"13 - During your antenatal appointments, did you feel involved in decisions about your care?\": \"anc_antenatal_decision_involvement\",\n",
        "    \"14 - During your antenatal care, did you receive help you needed with your mental health?\": \"anc_mental_health_support_antenatal\",\n",
        "    \"15 - If you have a long-term health condition, did you receive information on how this would affect your pregnancy?\": \"anc_long_term_condition_info\",\n",
        "    \"16 - If you had a pregnancy related health condition, did you receive information on how this would affect your pregnancy?\": \"anc_pregnancy_condition_info\",\n",
        "    \"17 - During your pregnancy, did you receive helpful information about feeding your baby?\": \"anc_baby_feeding_info_pregnancy\",\n",
        "    \"18 - Did you have confidence and trust in the staff caring for you during your antenatal care?\": \"anc_antenatal_staff_trust\",\n",
        "    \"19 - If you raised a concern during your antenatal care, did you feel that it was taken seriously?\": \"anc_antenatal_concern_serious\",\n",
        "    \"20 - How easy was it for you to attend antenatal appointments with your partner?\": \"anc_partner_antenatal_difficulty\",\n",
        "    \"21 - Please tell us why it was not easy to access your appointments.\": \"anc_antenatal_access_difficulty_reason\",\n",
        "    \"22 - During the antenatal period, did you receive help you needed with your mental health?\": \"anc_mental_health_support_antenatal_period\",\n",
        "    \"23 - Did you receive helpful information about feeding your baby?\": \"anc_baby_feeding_info\",\n",
        "    \"24 - My health professional made assumptions about me\": \"anc_provider_assumptions\",\n",
        "    \"25 - I encountered challenges in asking my health professional for help.\": \"anc_provider_help_challenges\",\n",
        "    \"26 - It was difficult to find resources that represented me\": \"anc_resource_represent_difficulty\",\n",
        "    \"27 - It was difficult to find the information I needed\": \"anc_info_find_difficulty\",\n",
        "    \"28 - I experienced discrimination while accessing healthcare services.\": \"anc_healthcare_discrimination\",\n",
        "    \"29 - It was difficult for me to get to routine appointments\": \"anc_routine_appointment_difficulty\",\n",
        "    \"30 - I moved house during this time and this made it difficult to get the care I needed.\": \"anc_moved_house_care_difficulty\",\n",
        "    \"31 - It was difficult balancing pregnancy whilst caring for my older children.\": \"anc_pregnancy_balance_care_children\",\n",
        "    \"32 - My health professional didn't respect me.\": \"anc_provider_disrespect\",\n",
        "    \"33 - My friends or family didn't support me.\": \"anc_lack_family_support\",\n",
        "    \"34 - I had relationship challenges.\": \"anc_relationship_challenges\",\n",
        "    \"35 - It was difficult balancing pregnancy alongside work or study.\": \"anc_pregnancy_balance_work_study\",\n",
        "    \"36 - I felt financially insecure.\": \"anc_financial_insecurity\",\n",
        "    \"37 - I was worried about returning to work or study after parental leave\": \"anc_work_study_return_worry\",\n",
        "    \"38 - Negative views about pregnancy from my peers affected me.\": \"anc_peer_pregnancy_negative_views\",\n",
        "    \"39 - Family views and pressures about pregnancy affected me\": \"anc_family_pregnancy_pressures\",\n",
        "    \"40 - I experienced mental health challenges.\": \"anc_mental_health_challenges\",\n",
        "    \"41 - I experienced physical health challenges.\": \"anc_physical_health_challenges\",\n",
        "    \"42 - I was worried about my baby's health or birth complications\": \"anc_baby_health_birth_worry\",\n",
        "    \"43 - Please share any other challenges or experiences not covered above.\": \"anc_additional_challenges_experiences\",\n",
        "    \"44 - Shortly before the birth of your baby, how empowered did you feel in your ability to take care of your child?\": \"anc_birth_empowerment\",\n",
        "    \"45 - Thinking about your care during labour and birth, did you feel involved in decisions about your care?\": \"anc_labour_decision_involvement\",\n",
        "    \"46 - After your baby was born, did you have the opportunity to ask questions about your labour and birth?\": \"anc_birth_question_opportunity\",\n",
        "    \"47 - One a scale of 1-5, how well do you think your questions were answered?\": \"anc_question_response_scale\",\n",
        "    \"48 - At what gestational age was your baby born? (in weeks)\": \"gestational_age_weeks\",\n",
        "    \"49 - How was your baby born?\": \"birth_type\",\n",
        "   \"50 - Thinking about the care you received immediately after the birth of your baby, were you given the information you needed about postnatal care and recovery?\": \"birth_postnatal_info_sufficiency\",\n",
        "    \"51 - Thinking about the care you received immediately after the birth of your baby, were you treated with kindness and understanding?\": \"birth_postnatal_kindness\",\n",
        "    \"52 - In the first few days of life, how was your baby fed?\": \"birth_early_life_feeding\",\n",
        "    \"53 - Were your feelings about how you wanted to feed your baby respected by healthcare professionals?\": \"birth_feeding_preferences_respected\",\n",
        "    \"54 - Thinking about labour and birth, did you have the knowledge you needed, to understand decisions being made about your partner's or baby's care?\": \"birth_labour_birth_knowledge\",\n",
        "    \"55 - After your baby was born, did you have the opportunity to ask questions about the birth of your baby?\": \"birth_baby_birth_question_opportunity\",\n",
        "    \"56 - One a scale of 1-5, how well do you think your questions were answered?\": \"birth_question_response_quality\",\n",
        "    \"57 - At what gestational age was your baby born? (in weeks)\": \"partner_gestational_age_weeks\",\n",
        "    \"58 - How was your baby born?\": \"partner_birth_type\",\n",
        "    \"59 - Thinking about the care you and your partner received immediately after the birth of your baby, were you given the information you needed about postnatal care and recovery for your partner?\": \"partner_postnatal_info\",\n",
        "    \"60 - Thinking about the care you and your partner received immediately after the birth of your baby, were you treated with kindness and understanding?\": \"partner_postnatal_kindness\",\n",
        "    \"61 - In the first few days of life, how was your baby fed?\": \"partner_early_life_feeding\",\n",
        "   \"62 - Thinking about your postnatal care, did you feel involved in decisions about your care?\": \"postnatal_decision_involvement\",\n",
        "    \"63 - If your baby needed medical care after birth, did you feel involved in decisions about their care?\": \"postnatal_baby_medical_care_decisions\",\n",
        "    \"64 - If you contacted a health professional for support, were you given the help you needed?\": \"postnatal_professional_support_help\",\n",
        "    \"65 - Since your baby’s birth have you been visited at home by a health professional?\": \"postnatal_home_professional_visit\",\n",
        "    \"66 - At your routine appointments, or during your baby's care, how often did you see or speak to the same health professional?\": \"postnatal_routine_appointments_provider\",\n",
        "    \"67 - Would you have preferred to have seen or spoken to a health professional…\": \"postnatal_provider_preference\",\n",
        "    \"68 - Did the health professional(s) that you saw or spoke to appear to be aware of the medical history of you and your baby?\": \"postnatal_provider_medical_history_awareness\",\n",
        "    \"69 - Did you have confidence and trust in the health professionals you saw or spoke to after going home?\": \"postnatal_home_provider_trust\",\n",
        "    \"70 - Were you given information about any changes you might experience to your mental health after having your baby?\": \"postnatal_mental_health_info_postpartum\",\n",
        "    \"71 - Did you receive care and support you needed with regards to your mental health?\": \"postnatal_mental_health_support_needed\",\n",
        "    \"72 - Were you given information about your own physical recovery after the birth?\": \"postnatal_physical_recovery_info\",\n",
        "    \"73 - How useful was this information?\": \"postnatal_physical_recovery_info_useful\",\n",
        "    \"74 - When it came to feeding your baby, where did you access support and information?\": \"postnatal_feeding_support_source\",\n",
        "    \"75 - How useful was this information?\": \"postnatal_feeding_support_info_useful\",\n",
        "    \"76 - Have you ever attended a breastfeeding or infant feeding class?\": \"postnatal_feeding_class_attendance\",\n",
        "    \"77 - Was this breastfeeding or infant feeding class useful?\": \"postnatal_feeding_class_usefulness\",\n",
        "    \"78 - How helpful was this information?\": \"postnatal_info_helpfulness\",\n",
        "    \"79 - Did the health professional(s) that you saw or spoke to appear to be aware of the medical history of you and your baby?\": \"postnatal_provider_medical_history_awareness_2\",\n",
        "   \"80 - Were you given information about any changes you might experience to your mental health after having your baby?\": \"partner_pnc_postnatal_mental_health_info_postpartum_2\",\n",
        "    \"81 - Did you receive care and support you needed with regards to your mental health?\": \"partner_pnc_mental_health_care_support\",\n",
        "    \"82 - Were you given information about your own physical recovery after the birth?\": \"partner_pnc_physical_recovery_info_2\",\n",
        "    \"83 - How useful was this information?\": \"partner_pnc_physical_recovery_info_useful_2\",\n",
        "    \"84 - When it came to feeding your baby, where did you access support and information?\": \"partner_pnc_feeding_support_info\",\n",
        "    \"85 - How useful was this information?\": \"partner_pnc_feeding_support_info_usefulness\",\n",
        "    \"86 - Have you ever attended a breastfeeding or infant feeding class?\": \"partner_pnc_feeding_class_attendance\",\n",
        "    \"87 - Was this breastfeeding or infant feeding class useful?\": \"partner_pnc_feeding_class_usefulness\",\n",
        "    \"88 - Please tell us about any challenges or experiences that weren't covered here\": \"partner_pnc_additional_challenges_experiences_2\",\n",
        "    \"89 - Were you given information about any changes you might experience to your mental health after having your baby?\": \"partner_pnc_postnatal_mental_health_info\",\n",
        "    \"90 - When it came to feeding your baby, where did you access support and information?\": \"partner_pnc_feeding_support_info\",\n",
        "    \"91 - How useful was this information?\": \"partner_pnc_feeding_info_usefulness\",\n",
        "    \"92 - If, during evenings, nights, or weekends, you needed support or advice about feeding your baby, where did you access this out-of-hours support?\": \"partner_pnc_out_of_hours_feeding_support\",\n",
        "    \"93 - How useful was this information?\": \"partner_pnc_out_of_hours_info_usefulness\",\n",
        "    \"94 - In the six weeks after the birth of your baby did you receive advice from health professionals about your baby’s development?\": \"partner_pnc_postnatal_baby_development_advice\",\n",
        "    \"95 - How useful was this information?\": \"partner_pnc_baby_development_advice_usefulness\",\n",
        "    \"141 - Token\": \"token\",\n",
        "    \"142 - Submitted at\": \"submitted_at\"\n",
        "}\n",
        "\n",
        "\n"
      ]
    },
    {
      "cell_type": "code",
      "execution_count": null,
      "metadata": {
        "id": "o7zOpTaWg4Zk"
      },
      "outputs": [],
      "source": [
        "# Extended dictionary mapping original column names to concise ones\n",
        "column_mapping.update({\n",
        "    \"96 - Did you provide any breastmilk to your baby within the first 48 hours after birth?\": \"initial_breastfeeding\",\n",
        "    \"97 - Can you tell us about why you didn't breastfeed?\": \"non_breastfeeding_reason\",\n",
        "    \"98 - How long after birth did you start breastfeeding?\": \"breastfeeding_start_time\",\n",
        "    \"99 - Are you still providing your baby with breastmilk (either direct feeding or expressing)?\": \"current_breastfeeding_status\",\n",
        "    \"100 - For how long did you breastfeed?\": \"breastfeeding_duration\",\n",
        "    \"101 - Could you please tell us about how you came to stop breastfeeding?\": \"breastfeeding_stop_reason\",\n",
        "    \"102 - Did your baby receive any breastmilk within the first 48 hours after birth?\": \"baby_initial_breastfeeding\",\n",
        "    \"103 - Can you tell us about why your partner didn't breastfeed?\": \"partner_non_breastfeeding_reason\",\n",
        "    \"104 - Is your baby still receiving breastmilk (either direct feeding or expressing)?\": \"baby_current_breastfeeding_status\",\n",
        "    \"105 - Could you please tell us about how your partner came to stop breastfeeding?\": \"partner_breastfeeding_stop_reason\",\n",
        "    \"106 - My health professional made assumptions about me\": \"pnc_provider_assumptions\",\n",
        "    \"107 - I found it difficult to ask my health professional for help.\": \"pnc_provider_help_difficulty\",\n",
        "    \"108 - It was difficult to find resources that represented me\": \"pnc_resource_representation_difficulty\",\n",
        "    \"109 - It was difficult to find the information I needed\": \"pnc_info_access_difficulty\",\n",
        "    \"110 - I experienced discrimination while accessing healthcare services.\": \"pnc_healthcare_discrimination\",\n",
        "    \"111 - Attending appointments was difficult for me.\": \"pnc_appointment_difficulty\",\n",
        "    \"112 - I moved house and this made it difficult to get the care I needed.\": \"pnc_house_move_care_difficulty\",\n",
        "    \"113 - It was difficult caring for my baby whilst also caring for my older children.\": \"pnc_baby_care_difficulty_with_older_children\",\n",
        "    \"114 - My health professional didn't respect me.\": \"pnc_provider_disrespect\",\n",
        "    \"115 - My friends or family didn't support me.\": \"pnc_family_support_lack\",\n",
        "    \"116 - I had relationship challenges.\": \"pnc_relationship_issues\",\n",
        "    \"117 - It was difficult balancing parenting alongside work or study.\": \"pnc_parenting_work_study_balance_difficulty\",\n",
        "    \"118 - I felt financially insecure during the time my baby was 0-2 years old.\": \"pnc_financial_insecurity\",\n",
        "    \"119 - Negative views from peers about my parenting choices affected me.\": \"pnc_peer_parenting_negative_views\",\n",
        "    \"120 - Negative family views and pressures about my parenting choices affected me\": \"pnc_family_parenting_views_pressure\",\n",
        "    \"121 - I experienced mental health challenges\": \"pnc_mental_health_challenges\",\n",
        "    \"122 - I experienced physical health challenges\": \"pnc_physical_health_challenges\",\n",
        "    \"123 - I was worried about my baby's health\": \"pnc_baby_health_worry\",\n",
        "    \"124 - Please share any other challenges or experiences not covered above.\": \"pnc_additional_experiences\",\n",
        "    \"125 - What year were you born?\": \"demo_birth_year\",\n",
        "    \"126 - How many pregnancies have you or your partner had before this one?\": \"demo_previous_pregnancies_count\",\n",
        "    \"127 - We understand that some families are sadly affected by pregnancy or infant loss. How many children do you have?\": \"demo_current_children_count\",\n",
        "    \"128 - Do you (or your partner, if they were the one giving birth) have any of the following physical or mental health conditions, disabilities or illnesses that have lasted or are expected to last 12 months or more and negatively impact on day-to-day life?\": \"demo_long_term_health_issues\",\n",
        "    \"129 - Did you (or your partner, if they were pregnant) have any of the following pregnancy-related health conditions during this pregnancy?\": \"demo_pregnancy_related_conditions\",\n",
        "    \"130 - What is your religion?\": \"demo_religion\",\n",
        "    \"131 - Is English your main language?\": \"demo_main_language_english\",\n",
        "    \"132 - Which languages do you most frequently use for conversation during the course of your day?\": \"demo_frequent_conversation_languages\",\n",
        "    \"133 - Which languages can you read well?\": \"demo_readable_languages\",\n",
        "    \"134 - What is your post code?\": \"demo_post_code\",\n",
        "    \"135 - What is your ethnic group?\": \"demo_ethnic_group\",\n",
        "    \"136 - Are you a UK Citizen?\": \"demo_uk_citizenship\",\n",
        "    \"137 - Have you used the Anya app during your pregnancy or after childbirth?\": \"demo_anya_app_usage\",\n",
        "    \"138 - Is there anything else you'd like to share about your maternity experience?\": \"demo_additional_maternity_experience\",\n",
        "    \"139 - As we progress with this and other exciting projects, we are keen to keep hearing from our users. Would you be happy for us to contact you to support Anya's future activities?\": \"demo_anya_future_contact\",\n",
        "    \"140 - What is your email address\": \"demo_email_address\"\n",
        "})\n",
        "\n",
        "# Use this dictionary to rename columns\n",
        "df_encoded = df_encoded.rename(columns=column_mapping)\n"
      ]
    },
    {
      "cell_type": "code",
      "execution_count": null,
      "metadata": {},
      "outputs": [],
      "source": [
        "column_mapping"
      ]
    },
    {
      "cell_type": "code",
      "execution_count": null,
      "metadata": {},
      "outputs": [],
      "source": [
        "# Define the replacement rules\n",
        "replacements = {\n",
        "    'Yes, always': 'Yes',\n",
        "    'Yes, definitely': 'Yes',\n",
        "    'Yes, sometimes': 'Yes, sometimes',\n",
        "    'Yes, partly': 'Yes, sometimes'\n",
        "}\n",
        "\n",
        "# Apply the replacements across the entire DataFrame\n",
        "df_encoded.replace(replacements, inplace=True)"
      ]
    },
    {
      "cell_type": "code",
      "execution_count": null,
      "metadata": {
        "id": "OtbeSOy0hl84"
      },
      "outputs": [],
      "source": [
        "# Replace \"Not Applicable/ Don't want to answer\" with \"Other\" across the entire DataFrame\n",
        "df_encoded.replace(\"Not Applicable/ Don't want to answer\", \"Other\", inplace=True)\n",
        "df_encoded.replace(\"Not applicable/rather not say\", \"Other\", inplace=True)\n",
        "df_encoded.replace(\"I did not want/need to be involved\", \"Other\", inplace=True)\n",
        "\n",
        "df_encoded.replace(\"Strongly disagree\", \"Strongly Disagree\", inplace=True)\n",
        "df_encoded.replace(\"Strongly agree\", \"Strongly Agree\", inplace=True)\n",
        "\n"
      ]
    },
    {
      "cell_type": "code",
      "execution_count": null,
      "metadata": {},
      "outputs": [],
      "source": [
        "order_list_yessometimes = [\"Yes\",\"Yes, sometimes\", \"No\", \"Not applicable\", \"Don't know/can't remember\"]\n",
        "\n",
        "order_list_likert =  [\"Strongly Disagree\", \"Disagree\", \"Neutral\", \"Agree\", \"Strongly Agree\", \"Other\"]\n",
        "\n",
        "order_list_likert_num = ['5','4','3','2','1']\n",
        "\n",
        "# order_list_yespartly = [\"Yes\",\"Yes, partly\", \"No\", \"Not applicable\", \"Don't know/can't remember\"]"
      ]
    },
    {
      "cell_type": "code",
      "execution_count": null,
      "metadata": {
        "id": "atHxzq9Vhl_9"
      },
      "outputs": [],
      "source": [
        "\n",
        "# df_encoded.to_excel('/content/ppie-cleaned.xlsx', engine='openpyxl')"
      ]
    },
    {
      "cell_type": "code",
      "execution_count": null,
      "metadata": {},
      "outputs": [],
      "source": [
        "# Initialize lists to hold the extracted data\n",
        "question_numbers = []\n",
        "questions = []\n",
        "variables = []\n",
        "\n",
        "# Iterate through the dictionary to split keys (questions) and save the values (variables)\n",
        "for key, value in column_mapping.items():\n",
        "    # Split the key into the question number and the question text\n",
        "    parts = key.split(\" - \", 1)\n",
        "    question_numbers.append(parts[0])\n",
        "    questions.append(parts[1])\n",
        "    variables.append(value)\n"
      ]
    },
    {
      "cell_type": "code",
      "execution_count": null,
      "metadata": {},
      "outputs": [],
      "source": [
        "# Create a DataFrame from the lists\n",
        "df_questions = pd.DataFrame({\n",
        "    \"Question Number\": question_numbers,\n",
        "    \"Question\": questions,\n",
        "    \"Variable\": variables\n",
        "})"
      ]
    },
    {
      "cell_type": "code",
      "execution_count": null,
      "metadata": {},
      "outputs": [],
      "source": [
        "df_questions"
      ]
    },
    {
      "cell_type": "code",
      "execution_count": null,
      "metadata": {},
      "outputs": [],
      "source": [
        "# df_questions.to_csv(r\"C:\\Users\\Shardul\\OneDrive - London Business School\\coding\\anya\\data\\ppie-questions.csv\")"
      ]
    },
    {
      "cell_type": "code",
      "execution_count": null,
      "metadata": {
        "id": "7s2oSETOhmDj"
      },
      "outputs": [],
      "source": [
        "# # Columns to analyze that relate to potential barriers\n",
        "# barrier_columns = [\n",
        "#     \"provider_help_difficulty\",\n",
        "#     \"resource_representation_difficulty\",\n",
        "#     \"info_access_difficulty\",\n",
        "#     \"healthcare_discrimination_2\",\n",
        "#     \"appointment_difficulty\",\n",
        "#     \"house_move_care_difficulty\",\n",
        "#     \"baby_care_difficulty_with_older_children\",\n",
        "#     \"provider_disrespect_2\",\n",
        "#     \"family_support_lack\",\n",
        "#     \"relationship_issues\",\n",
        "#     \"parenting_work_study_balance_difficulty\",\n",
        "#     \"financial_insecurity_0_2\",\n",
        "#     \"peer_parenting_negative_views\",\n",
        "#     \"family_parenting_views_pressure\",\n",
        "#     \"mental_health_challenges_2\",\n",
        "#     \"physical_health_challenges_2\",\n",
        "#     \"baby_health_worry\",\n",
        "#     \"additional_experiences_2\"\n",
        "# ]"
      ]
    },
    {
      "cell_type": "code",
      "execution_count": null,
      "metadata": {
        "colab": {
          "base_uri": "https://localhost:8080/",
          "height": 408
        },
        "id": "bULr81w9imzl",
        "outputId": "aa060ea8-87a4-498a-f4b7-1c8d13ac04cf"
      },
      "outputs": [],
      "source": [
        "# # Generating summary statistics for these columns\n",
        "# barrier_summary = df_encoded[barrier_columns].describe(include='all')\n",
        "\n",
        "# # Optionally, display the summary directly or export to a file\n",
        "# display(barrier_summary)"
      ]
    },
    {
      "cell_type": "code",
      "execution_count": null,
      "metadata": {
        "id": "bMVUwt3bisTI"
      },
      "outputs": [],
      "source": [
        "# # Analyzing correlations between barrier variables\n",
        "# correlations = df_encoded[barrier_columns].corr()"
      ]
    },
    {
      "cell_type": "code",
      "execution_count": null,
      "metadata": {
        "id": "T6_on4bPjqcq"
      },
      "outputs": [],
      "source": [
        "# display(correlations)\n"
      ]
    },
    {
      "cell_type": "code",
      "execution_count": null,
      "metadata": {
        "id": "YdnlaxBUju4_"
      },
      "outputs": [],
      "source": [
        "# import seaborn as sns\n",
        "# import matplotlib.pyplot as plt\n",
        "\n",
        "# plt.figure(figsize=(10, 8))\n",
        "# sns.heatmap(correlations, annot=True, fmt=\".2f\", cmap='coolwarm')\n",
        "# plt.title('Correlation Matrix of Barriers')\n",
        "# plt.show()"
      ]
    },
    {
      "cell_type": "code",
      "execution_count": null,
      "metadata": {
        "id": "4W7TCHkmkz-m"
      },
      "outputs": [],
      "source": [
        "\n",
        "# Define the conditions for the new variable\n",
        "conditions = [\n",
        "    df_encoded['pregnancy_stage'].isin([\"I have a baby aged less than 3 months\", \"I have a baby aged 3-6 months\"]),\n",
        "    df_encoded['pregnancy_stage'].isin([\"I have a baby aged 6-12 months\", \"I have a baby aged 12-24 months\"])\n",
        "]\n",
        "\n",
        "# Define the values corresponding to the conditions\n",
        "values = [\n",
        "    '0-6 months',  # Group for babies less than 6 months old\n",
        "    'Older than 6 months'  # Group for babies older than 6 months\n",
        "]\n",
        "\n",
        "# Use numpy.select to apply these conditions and values\n",
        "df_encoded['baby_age_group'] = np.select(conditions, values, default=np.nan)\n",
        "\n",
        "# Display the DataFrame to see the result\n",
        "print(df_encoded['baby_age_group'].value_counts())"
      ]
    },
    {
      "cell_type": "code",
      "execution_count": null,
      "metadata": {
        "id": "aULQvcElk0CG"
      },
      "outputs": [],
      "source": [
        "# Create a binary variable where 1 indicates the baby's age is greater than 6 months\n",
        "df_encoded['baby_age_over_6_months'] = np.where(\n",
        "    df_encoded['pregnancy_stage'].isin([\"I have a baby aged 6-12 months\", \"I have a baby aged 12-24 months\"]),\n",
        "    1,  # Baby age greater than 6 months\n",
        "    0,   # Baby age 6 months or less, or other situations\n",
        ")\n",
        "\n"
      ]
    },
    {
      "cell_type": "code",
      "execution_count": null,
      "metadata": {
        "id": "lnJmmXb7m8Y0"
      },
      "outputs": [],
      "source": [
        "# Create a binary variable where 0 indicates the person is White (specifically starting with \"White: \")\n",
        "df_encoded['is_not_white'] = np.where(\n",
        "    df_encoded['demo_ethnic_group'].str.startswith(\"White:\"),\n",
        "    0,  # Person is White, specifically starting with \"White: \"\n",
        "    1   # Person is not White\n",
        ")\n",
        "\n",
        "# Print to verify that the new column is correct\n",
        "print(df_encoded[['demo_ethnic_group', 'is_not_white']])"
      ]
    },
    {
      "cell_type": "code",
      "execution_count": null,
      "metadata": {},
      "outputs": [],
      "source": []
    },
    {
      "cell_type": "code",
      "execution_count": null,
      "metadata": {
        "colab": {
          "base_uri": "https://localhost:8080/",
          "height": 49,
          "referenced_widgets": [
            "57ec856774bd4add88615756119259ab",
            "cb7f9ebb781b46e282b2220546beaece",
            "49ab10e99b414dab9c2bd96ff5a97a85",
            "70c5f02015ea428c84c7d2127bb28803",
            "aac98906cbbc4aa797007ab3c3c1a58a",
            "b4362cae5db542daadc01ccf22b7e7c3",
            "b2c16ee7346f4a74ac1e1df6225c5eca",
            "f057af9b52cf481fb46ed46cda99c1c9",
            "5f770a9b699a4dfaa12515f58f19000c",
            "4575b6b4273b45929b3dd9df9fd3822d",
            "3dfacbdda6a74740a62e95f0c7b82a0f"
          ]
        },
        "id": "kSKtDxfTGNJh",
        "outputId": "3613433b-daff-43d2-dff2-5d5983ded081"
      },
      "outputs": [],
      "source": [
        "# # Generate the Sweetviz report\n",
        "# report_ethnic = sv.analyze(df_encoded, target_feat ='is_not_white', pairwise_analysis='off')\n",
        "\n",
        "# # Display the report\n",
        "# report_ethnic.show_html('report_ppie_ethnic_group.html')"
      ]
    },
    {
      "cell_type": "code",
      "execution_count": null,
      "metadata": {
        "id": "6s5VzJlQGnW2"
      },
      "outputs": [],
      "source": [
        "# # Generate the Sweetviz report\n",
        "# report_baby_age = sv.analyze(df_encoded, target_feat ='baby_age_over_6_months', pairwise_analysis='off')\n",
        "\n",
        "# # Display the report\n",
        "# report_baby_age.show_html('report_ppie_baby_age.html')"
      ]
    },
    {
      "cell_type": "code",
      "execution_count": null,
      "metadata": {
        "colab": {
          "base_uri": "https://localhost:8080/"
        },
        "id": "WaiHNKY2Ht_h",
        "outputId": "1262848a-d059-4f66-8c0c-bf23fcc27eb0"
      },
      "outputs": [],
      "source": [
        "df_encoded['demo_ethnic_group'].value_counts()"
      ]
    },
    {
      "cell_type": "code",
      "execution_count": null,
      "metadata": {
        "id": "kqqMmpzUI8VH"
      },
      "outputs": [],
      "source": [
        "# df_encoded.to_excel('/content/ppie-cleaned-v2.xlsx', engine='openpyxl')"
      ]
    },
    {
      "cell_type": "code",
      "execution_count": null,
      "metadata": {
        "id": "M515ElIIh5YT"
      },
      "outputs": [],
      "source": [
        "# df_encoded = pd.read_excel(r'C:\\Users\\Shardul\\OneDrive - London Business School\\coding\\anya\\data\\ppie-cleaned-v2.xlsx')"
      ]
    },
    {
      "cell_type": "code",
      "execution_count": null,
      "metadata": {
        "colab": {
          "base_uri": "https://localhost:8080/"
        },
        "id": "EurgsmfWh5bB",
        "outputId": "63f0a112-d681-470f-aa51-826d6cb2b58b"
      },
      "outputs": [],
      "source": [
        "total_responses = len(df_encoded)\n",
        "print(f\"Total number of responses we received were {total_responses}\")"
      ]
    },
    {
      "cell_type": "code",
      "execution_count": null,
      "metadata": {
        "colab": {
          "base_uri": "https://localhost:8080/",
          "height": 613
        },
        "id": "d7LL0SOah5dv",
        "outputId": "be4b18ee-d702-44c9-c451-e691377b7ddb"
      },
      "outputs": [],
      "source": [
        "# Add an age column calculated from birth year\n",
        "df_encoded['age'] = 2024 - df_encoded['demo_birth_year']\n",
        "\n",
        "# Plotting age distribution\n",
        "plt.figure(figsize=(10, 6))\n",
        "ax = sns.histplot(df_encoded['age'], bins=np.arange(df_encoded['age'].min(), df_encoded['age'].max() + 1, 5), stat='percent')\n",
        "ax.yaxis.set_major_formatter(PercentFormatter())\n",
        "plt.title('Age Distribution of Respondents')\n",
        "plt.xlabel('Age')\n",
        "plt.ylabel('Percentage of Total Responses')\n",
        "plt.show()"
      ]
    },
    {
      "cell_type": "code",
      "execution_count": null,
      "metadata": {
        "colab": {
          "base_uri": "https://localhost:8080/",
          "height": 519
        },
        "id": "GgW0NyX7h5gF",
        "outputId": "f52833ac-15a5-4196-f92c-bf840fdb078b"
      },
      "outputs": [],
      "source": [
        "# Convert count data to proportions\n",
        "pregnancy_stage_counts = df_encoded['pregnancy_stage'].value_counts(normalize=True)\n",
        "pregnancy_stage_data = pd.DataFrame({'Stage': pregnancy_stage_counts.index, 'Proportion': pregnancy_stage_counts.values})\n",
        "\n",
        "# Create a pie chart\n",
        "plt.figure(figsize=(10, 6))\n",
        "plt.pie(pregnancy_stage_data['Proportion'], labels=pregnancy_stage_data['Stage'], autopct='%1.1f%%')\n",
        "plt.title('Stage of Pregnancy')\n",
        "plt.show()\n",
        "\n",
        "\n",
        "# Calculate the frequency of each category in 'pregnancy_stage'\n",
        "pregnancy_stage_counts = df_encoded['pregnancy_stage'].value_counts()\n",
        "# Calculate percentages from frequencies\n",
        "pregnancy_stage_percentages = df_encoded['pregnancy_stage'].value_counts(normalize=True) * 100\n",
        "\n",
        "# Create a DataFrame from frequencies and percentages\n",
        "pregnancy_stage_df = pd.DataFrame({\n",
        "    'Frequency': pregnancy_stage_counts,\n",
        "    'Percentage': pregnancy_stage_percentages\n",
        "})\n",
        "\n",
        "# Format the DataFrame to display percentages with two decimal places\n",
        "formatted_pregnancy_stage_df = pregnancy_stage_df.style.format({\n",
        "    'Percentage': \"{:.2f}%\"\n",
        "})\n",
        "\n",
        "# Display the styled DataFrame\n",
        "formatted_pregnancy_stage_df"
      ]
    },
    {
      "cell_type": "code",
      "execution_count": null,
      "metadata": {
        "colab": {
          "base_uri": "https://localhost:8080/"
        },
        "id": "H4_BVAKNh5il",
        "outputId": "fafd7369-7f60-4720-ba85-71b6974a7302"
      },
      "outputs": [],
      "source": [
        "# Calculate frequency of each ethnic group\n",
        "ethnic_group_counts = df_encoded['demo_ethnic_group'].value_counts().reset_index()\n",
        "ethnic_group_counts.columns = ['Ethnic Group', 'Count']\n",
        "\n",
        "# Display the table\n",
        "print(ethnic_group_counts)"
      ]
    },
    {
      "cell_type": "code",
      "execution_count": null,
      "metadata": {
        "id": "_i0IXbVXpIgx"
      },
      "outputs": [],
      "source": [
        "def plot_bar_charts(df, variable_to_plot, levels_order, is_grouped, grouping_variable=None, \n",
        "                    plot_title=\"\", x_label=\"\", y_label=\"\"):\n",
        "    \"\"\"\n",
        "    Function to plot bar charts with optional grouping, with percentage labels on each bar.\n",
        "    \"\"\"\n",
        "    # Ensure the variable is categorized correctly\n",
        "    df[variable_to_plot] = pd.Categorical(df[variable_to_plot], categories=levels_order, ordered=True)\n",
        "\n",
        "    if is_grouped and grouping_variable:\n",
        "        if df[grouping_variable].dtype != 'object':\n",
        "            df[grouping_variable] = df[grouping_variable].astype(str)  # Convert to string if not\n",
        "\n",
        "        grouped = df.groupby([grouping_variable, variable_to_plot]).size().unstack(fill_value=0)\n",
        "        grouped_percentage = grouped.div(grouped.sum(axis=1), axis=0) * 100\n",
        "        data_flat = grouped_percentage.reset_index().melt(id_vars=[grouping_variable], var_name='Difficulty Level', value_name='Percentage')\n",
        "        hue = grouping_variable\n",
        "    else:\n",
        "        counts = df[variable_to_plot].value_counts(normalize=True, sort=False)\n",
        "        data_flat = pd.DataFrame({'Difficulty Level': counts.index, 'Percentage': counts.values * 100})\n",
        "        hue = None\n",
        "\n",
        "    # Plotting the bar chart\n",
        "    plt.figure(figsize=(10, 6))\n",
        "    barplot = sns.barplot(x='Difficulty Level', y='Percentage', hue=hue, data=data_flat, order=levels_order)\n",
        "\n",
        "    # Adding percentage labels above each bar\n",
        "    for p in barplot.patches:\n",
        "        barplot.annotate(format(p.get_height(), '.1f') + '%', \n",
        "                         (p.get_x() + p.get_width() / 2., p.get_height()), \n",
        "                         ha = 'center', va = 'center', \n",
        "                         xytext = (0, 9), \n",
        "                         textcoords = 'offset points')\n",
        "\n",
        "    plt.title(plot_title)\n",
        "    plt.xlabel(x_label)\n",
        "    plt.ylabel(y_label)\n",
        "    plt.gca().yaxis.set_major_formatter(PercentFormatter())\n",
        "    plt.xticks(rotation=45)\n",
        "    if hue:\n",
        "        plt.legend(title=hue)\n",
        "    plt.show()"
      ]
    },
    {
      "cell_type": "code",
      "execution_count": null,
      "metadata": {},
      "outputs": [],
      "source": [
        "#ANC    "
      ]
    },
    {
      "cell_type": "code",
      "execution_count": null,
      "metadata": {},
      "outputs": [],
      "source": [
        "plot_bar_charts(df_encoded, 'anc_antenatal_attendance_ease',\n",
        "                         [5,4,3,2,1],\n",
        "                         False, 'is_not_white', 'ANC: Ease of visiting antenatal appointments', 'Response', 'Percentage of Responses')"
      ]
    },
    {
      "cell_type": "code",
      "execution_count": null,
      "metadata": {},
      "outputs": [],
      "source": [
        "plot_bar_charts(df_encoded, 'anc_antenatal_attendance_ease',\n",
        "                         [5,4,3,2,1],\n",
        "                         True, 'is_not_white', 'ANC: Ease of visiting antenatal appointments', 'Response', 'Percentage of Responses')"
      ]
    },
    {
      "cell_type": "code",
      "execution_count": null,
      "metadata": {},
      "outputs": [],
      "source": [
        "plot_bar_charts(df_encoded, 'anc_provider_aware_medical_history',\n",
        "                         order_list_yessometimes,\n",
        "                         True, 'is_not_white', 'ANC: Provider aware of medical history', 'Response', 'Percentage of Responses')"
      ]
    },
    {
      "cell_type": "code",
      "execution_count": null,
      "metadata": {},
      "outputs": [],
      "source": [
        "plot_bar_charts(df_encoded, 'anc_antenatal_decision_involvement',\n",
        "                         [\"Yes\",\"Yes, to some extent\",\"No\"],\n",
        "                         True, 'is_not_white', 'ANC: Felt involved in medical decisions', 'Response', 'Percentage of Responses')"
      ]
    },
    {
      "cell_type": "code",
      "execution_count": null,
      "metadata": {},
      "outputs": [],
      "source": [
        "plot_bar_charts(df_encoded, 'anc_mental_health_support_antenatal',\n",
        "                         order_list_yessometimes,\n",
        "                         True, 'is_not_white', 'ANC: Received mental health support', 'Response', 'Percentage of Responses')"
      ]
    },
    {
      "cell_type": "code",
      "execution_count": null,
      "metadata": {},
      "outputs": [],
      "source": [
        "plot_bar_charts(df_encoded, 'anc_long_term_condition_info',\n",
        "                         order_list_yessometimes,\n",
        "                         True, 'is_not_white', 'ANC: Received mental health support', 'Response', 'Percentage of Responses')"
      ]
    },
    {
      "cell_type": "code",
      "execution_count": null,
      "metadata": {},
      "outputs": [],
      "source": [
        "plot_bar_charts(df_encoded, 'anc_long_term_condition_info',\n",
        "                         order_list_yessometimes,\n",
        "                         False, 'is_not_white', 'ANC: Received long term health condition info', 'Response', 'Percentage of Responses')"
      ]
    },
    {
      "cell_type": "code",
      "execution_count": null,
      "metadata": {},
      "outputs": [],
      "source": [
        "\n",
        "plot_bar_charts(df_encoded, 'anc_pregnancy_condition_info',\n",
        "                         order_list_yessometimes,\n",
        "                         False, 'is_not_white', 'ANC: Received pregnancy health condition info', 'Response', 'Percentage of Responses')"
      ]
    },
    {
      "cell_type": "code",
      "execution_count": null,
      "metadata": {},
      "outputs": [],
      "source": [
        "plot_bar_charts(df_encoded, 'anc_pregnancy_condition_info',\n",
        "                         order_list_yessometimes,\n",
        "                         True, 'is_not_white', 'ANC: Received pregnancy health condition info', 'Response', 'Percentage of Responses')"
      ]
    },
    {
      "cell_type": "code",
      "execution_count": null,
      "metadata": {},
      "outputs": [],
      "source": [
        "plot_bar_charts(df_encoded, 'anc_baby_feeding_info_pregnancy',\n",
        "                         order_list_yessometimes,\n",
        "                         False, 'is_not_white', 'ANC: Received feeding info', 'Response', 'Percentage of Responses')"
      ]
    },
    {
      "cell_type": "code",
      "execution_count": null,
      "metadata": {},
      "outputs": [],
      "source": [
        "plot_bar_charts(df_encoded, 'anc_baby_feeding_info_pregnancy',\n",
        "                         order_list_yessometimes,\n",
        "                         True, 'is_not_white', 'ANC: Received feeding info', 'Response', 'Percentage of Responses')"
      ]
    },
    {
      "cell_type": "code",
      "execution_count": null,
      "metadata": {},
      "outputs": [],
      "source": [
        "plot_bar_charts(df_encoded, 'anc_provider_assumptions',\n",
        "                         order_list_likert,\n",
        "                         False, 'is_not_white', 'ANC: Provider made assumptions about me', 'Response', 'Percentage of Responses')"
      ]
    },
    {
      "cell_type": "code",
      "execution_count": null,
      "metadata": {},
      "outputs": [],
      "source": [
        "plot_bar_charts(df_encoded, 'anc_provider_assumptions',\n",
        "                         order_list_likert,\n",
        "                         True, 'is_not_white', 'ANC: Provider made assumptions about me', 'Response', 'Percentage of Responses')"
      ]
    },
    {
      "cell_type": "code",
      "execution_count": null,
      "metadata": {},
      "outputs": [],
      "source": [
        "plot_bar_charts(df_encoded, 'anc_provider_help_challenges',\n",
        "                         order_list_likert,\n",
        "                         False, 'is_not_white', 'ANC: Challenges faced while asking for help from Provider', 'Response', 'Percentage of Responses')"
      ]
    },
    {
      "cell_type": "code",
      "execution_count": null,
      "metadata": {},
      "outputs": [],
      "source": [
        "plot_bar_charts(df_encoded, 'anc_provider_help_challenges',\n",
        "                         order_list_likert,\n",
        "                         True, 'is_not_white', 'ANC: Challenges faced while asking for help from Provider', 'Response', 'Percentage of Responses')"
      ]
    },
    {
      "cell_type": "code",
      "execution_count": null,
      "metadata": {},
      "outputs": [],
      "source": [
        "plot_bar_charts(df_encoded, 'anc_resource_represent_difficulty',\n",
        "                         order_list_likert,\n",
        "                         False, 'is_not_white', 'ANC: Challenges faced while finding resources representing me', 'Response', 'Percentage of Responses')"
      ]
    },
    {
      "cell_type": "code",
      "execution_count": null,
      "metadata": {},
      "outputs": [],
      "source": [
        "plot_bar_charts(df_encoded, 'anc_resource_represent_difficulty',\n",
        "                         order_list_likert,\n",
        "                         True, 'is_not_white', 'ANC: Challenges faced while finding resources representing me', 'Response', 'Percentage of Responses')"
      ]
    },
    {
      "cell_type": "code",
      "execution_count": null,
      "metadata": {},
      "outputs": [],
      "source": [
        "plot_bar_charts(df_encoded, 'anc_info_find_difficulty',\n",
        "                         order_list_likert,\n",
        "                         False, 'is_not_white', 'ANC: Difficult to find info', 'Response', 'Percentage of Responses')"
      ]
    },
    {
      "cell_type": "code",
      "execution_count": null,
      "metadata": {},
      "outputs": [],
      "source": [
        "plot_bar_charts(df_encoded, 'anc_info_find_difficulty',\n",
        "                         order_list_likert,\n",
        "                         True, 'is_not_white', 'ANC: Difficult to find info', 'Response', 'Percentage of Responses')"
      ]
    },
    {
      "cell_type": "code",
      "execution_count": null,
      "metadata": {},
      "outputs": [],
      "source": [
        "plot_bar_charts(df_encoded, 'anc_healthcare_discrimination',\n",
        "                         order_list_likert,\n",
        "                         True, 'is_not_white', 'ANC: Faced discrimation', 'Response', 'Percentage of Responses')"
      ]
    },
    {
      "cell_type": "code",
      "execution_count": null,
      "metadata": {},
      "outputs": [],
      "source": [
        "plot_bar_charts(df_encoded, 'anc_routine_appointment_difficulty',\n",
        "                         order_list_likert,\n",
        "                         False, 'is_not_white', 'ANC: Difficult to get to routine appointments', 'Response', 'Percentage of Responses')"
      ]
    },
    {
      "cell_type": "code",
      "execution_count": null,
      "metadata": {},
      "outputs": [],
      "source": [
        "plot_bar_charts(df_encoded, 'anc_moved_house_care_difficulty',\n",
        "                         order_list_likert,\n",
        "                         False, 'is_not_white', 'ANC: House move made childcare difficult', 'Response', 'Percentage of Responses')"
      ]
    },
    {
      "cell_type": "code",
      "execution_count": null,
      "metadata": {},
      "outputs": [],
      "source": [
        "plot_bar_charts(df_encoded, 'anc_pregnancy_balance_care_children',\n",
        "                         order_list_likert,\n",
        "                         True, 'is_not_white', 'ANC: Difficult to balance with older child', 'Response', 'Percentage of Responses')"
      ]
    },
    {
      "cell_type": "code",
      "execution_count": null,
      "metadata": {},
      "outputs": [],
      "source": [
        "plot_bar_charts(df_encoded, 'anc_provider_disrespect',\n",
        "                         order_list_likert,\n",
        "                         True, 'is_not_white', 'ANC: HCP showed disrespect', 'Response', 'Percentage of Responses')"
      ]
    },
    {
      "cell_type": "code",
      "execution_count": null,
      "metadata": {},
      "outputs": [],
      "source": [
        "plot_bar_charts(df_encoded, 'anc_lack_family_support',\n",
        "                         order_list_likert,\n",
        "                         True, 'is_not_white', 'ANC: Lacked family support', 'Response', 'Percentage of Responses')"
      ]
    },
    {
      "cell_type": "code",
      "execution_count": null,
      "metadata": {},
      "outputs": [],
      "source": [
        "plot_bar_charts(df_encoded, 'anc_relationship_challenges',\n",
        "                         order_list_likert,\n",
        "                         True, 'is_not_white', 'ANC: Relationship challenges', 'Response', 'Percentage of Responses')"
      ]
    },
    {
      "cell_type": "code",
      "execution_count": null,
      "metadata": {},
      "outputs": [],
      "source": [
        "plot_bar_charts(df_encoded, 'anc_financial_insecurity',\n",
        "                         order_list_likert,\n",
        "                         False, 'is_not_white', 'ANC: Felt financially insecure', 'Response', 'Percentage of Responses')"
      ]
    },
    {
      "cell_type": "code",
      "execution_count": null,
      "metadata": {},
      "outputs": [],
      "source": [
        "plot_bar_charts(df_encoded, 'anc_financial_insecurity',\n",
        "                         order_list_likert,\n",
        "                         True, 'is_not_white', 'ANC: Felt financially insecure', 'Response', 'Percentage of Responses')"
      ]
    },
    {
      "cell_type": "code",
      "execution_count": null,
      "metadata": {},
      "outputs": [],
      "source": [
        "plot_bar_charts(df_encoded, 'anc_pregnancy_balance_work_study',\n",
        "                         order_list_likert,\n",
        "                         False, 'is_not_white', 'ANC: Difficult balancing pregnancy with work/study', 'Response', 'Percentage of Responses')"
      ]
    },
    {
      "cell_type": "code",
      "execution_count": null,
      "metadata": {},
      "outputs": [],
      "source": [
        "plot_bar_charts(df_encoded, 'anc_pregnancy_balance_work_study',\n",
        "                         order_list_likert,\n",
        "                         True, 'is_not_white', 'ANC: Difficult balancing pregnancy with work/study', 'Response', 'Percentage of Responses')"
      ]
    },
    {
      "cell_type": "code",
      "execution_count": null,
      "metadata": {},
      "outputs": [],
      "source": [
        "plot_bar_charts(df_encoded, 'anc_work_study_return_worry',\n",
        "                         order_list_likert,\n",
        "                         False, 'is_not_white', 'ANC: Worried about returning to work', 'Response', 'Percentage of Responses')"
      ]
    },
    {
      "cell_type": "code",
      "execution_count": null,
      "metadata": {},
      "outputs": [],
      "source": [
        "plot_bar_charts(df_encoded, 'anc_work_study_return_worry',\n",
        "                         order_list_likert,\n",
        "                         True, 'is_not_white', 'ANC: Worried about returning to work', 'Response', 'Percentage of Responses')"
      ]
    },
    {
      "cell_type": "code",
      "execution_count": null,
      "metadata": {},
      "outputs": [],
      "source": [
        "plot_bar_charts(df_encoded, 'anc_peer_pregnancy_negative_views',\n",
        "                         order_list_likert,\n",
        "                         True, 'is_not_white', 'ANC: Negative peer views affected me', 'Response', 'Percentage of Responses')"
      ]
    },
    {
      "cell_type": "code",
      "execution_count": null,
      "metadata": {},
      "outputs": [],
      "source": [
        "plot_bar_charts(df_encoded, 'anc_family_pregnancy_pressures',\n",
        "                         order_list_likert,\n",
        "                         True, 'is_not_white', 'ANC: Family views affected me', 'Response', 'Percentage of Responses')"
      ]
    },
    {
      "cell_type": "code",
      "execution_count": null,
      "metadata": {},
      "outputs": [],
      "source": [
        "plot_bar_charts(df_encoded, 'anc_mental_health_challenges',\n",
        "                         order_list_likert,\n",
        "                         False, 'is_not_white', 'ANC: Experienced mental health challenges', 'Response', 'Percentage of Responses')"
      ]
    },
    {
      "cell_type": "code",
      "execution_count": null,
      "metadata": {},
      "outputs": [],
      "source": [
        "plot_bar_charts(df_encoded, 'anc_mental_health_challenges',\n",
        "                         order_list_likert,\n",
        "                         True, 'is_not_white', 'ANC: Experienced mental health challenges', 'Response', 'Percentage of Responses')"
      ]
    },
    {
      "cell_type": "code",
      "execution_count": null,
      "metadata": {},
      "outputs": [],
      "source": [
        "plot_bar_charts(df_encoded, 'anc_physical_health_challenges',\n",
        "                         order_list_likert,\n",
        "                         False, 'is_not_white', 'ANC: Faced physical health challenges', 'Response', 'Percentage of Responses')"
      ]
    },
    {
      "cell_type": "code",
      "execution_count": null,
      "metadata": {},
      "outputs": [],
      "source": [
        "plot_bar_charts(df_encoded, 'anc_physical_health_challenges',\n",
        "                         order_list_likert,\n",
        "                         True, 'is_not_white', 'ANC: Faced physical health challenges', 'Response', 'Percentage of Responses')"
      ]
    },
    {
      "cell_type": "code",
      "execution_count": null,
      "metadata": {},
      "outputs": [],
      "source": [
        "plot_bar_charts(df_encoded, 'anc_baby_health_birth_worry',\n",
        "                         order_list_likert,\n",
        "                         False, 'is_not_white', 'ANC: Was worried about baby health/ complications', 'Response', 'Percentage of Responses')"
      ]
    },
    {
      "cell_type": "code",
      "execution_count": null,
      "metadata": {},
      "outputs": [],
      "source": [
        "plot_bar_charts(df_encoded, 'anc_birth_empowerment',\n",
        "                         [5,4,3,2,1],\n",
        "                         False, 'is_not_white', 'ANC: Felt empowered about taking care', 'Response', 'Percentage of Responses')"
      ]
    },
    {
      "cell_type": "code",
      "execution_count": null,
      "metadata": {},
      "outputs": [],
      "source": [
        "plot_bar_charts(df_encoded, 'anc_birth_empowerment',\n",
        "                         [5,4,3,2,1],\n",
        "                         True, 'is_not_white', 'ANC: Felt empowered about taking care', 'Response', 'Percentage of Responses')"
      ]
    },
    {
      "cell_type": "code",
      "execution_count": null,
      "metadata": {},
      "outputs": [],
      "source": [
        "break"
      ]
    },
    {
      "cell_type": "code",
      "execution_count": null,
      "metadata": {},
      "outputs": [],
      "source": [
        "def generate_all_charts(df, variables_list, grouping_variable, titles_dict):\n",
        "    \"\"\"Generates charts for a list of variables with given titles, for both single and grouped scenarios.\"\"\"\n",
        "    common_levels_order = [\"Strongly Disagree\", \"Disagree\", \"Neutral\", \"Agree\", \"Strongly Agree\", \"Other\"]\n",
        "\n",
        "    for variable in variables_list:\n",
        "        plot_title_group = titles_dict.get(variable, \"Variable Analysis\") + \" (Grouped by Race)\"\n",
        "        plot_title_single = titles_dict.get(variable, \"Variable Analysis\") + \" (All Respondents)\"\n",
        "\n",
        "        # Plot for single group (no grouping variable)\n",
        "        plot_bar_charts(df, variable, common_levels_order, False, None,\n",
        "                        plot_title=plot_title_single, x_label=\"Response\", y_label=\"Percentage of Responses\")\n",
        "\n",
        "        # Plot for two groups (grouped by 'is_not_white')\n",
        "        plot_bar_charts(df, variable, common_levels_order, True, grouping_variable,\n",
        "                        plot_title=plot_title_group, x_label=\"Response\", y_label=\"Percentage of Responses\")\n"
      ]
    },
    {
      "cell_type": "code",
      "execution_count": null,
      "metadata": {},
      "outputs": [],
      "source": [
        "# Updated variables list with both PNC and ANC variables\n",
        "variables_to_plot = [\n",
        "    'pnc_provider_assumptions', 'pnc_provider_help_difficulty', 'pnc_resource_representation_difficulty',\n",
        "    'pnc_info_access_difficulty', 'pnc_healthcare_discrimination', 'pnc_appointment_difficulty',\n",
        "    'pnc_house_move_care_difficulty', 'pnc_baby_care_difficulty_with_older_children', 'pnc_provider_disrespect',\n",
        "    'pnc_family_support_lack', 'pnc_relationship_issues', 'pnc_parenting_work_study_balance_difficulty',\n",
        "    'pnc_financial_insecurity', 'pnc_peer_parenting_negative_views', 'pnc_family_parenting_views_pressure',\n",
        "    'pnc_mental_health_challenges', 'pnc_physical_health_challenges', 'pnc_baby_health_worry',\n",
        "    # ANC variables added\n",
        "    'anc_antenatal_attendance_ease', 'anc_provider_aware_medical_history', 'anc_antenatal_decision_involvement',\n",
        "    'anc_mental_health_support_antenatal', 'anc_long_term_condition_info', 'anc_pregnancy_condition_info',\n",
        "    'anc_baby_feeding_info_pregnancy', 'anc_provider_assumptions', 'anc_provider_help_challenges',\n",
        "    'anc_resource_represent_difficulty', 'anc_info_find_difficulty', 'anc_healthcare_discrimination',\n",
        "    'anc_routine_appointment_difficulty', 'anc_moved_house_care_difficulty', 'anc_pregnancy_balance_care_children',\n",
        "    'anc_provider_disrespect', 'anc_lack_family_support', 'anc_relationship_challenges',\n",
        "    'anc_financial_insecurity', 'anc_pregnancy_balance_work_study', 'anc_work_study_return_worry',\n",
        "    'anc_peer_pregnancy_negative_views', 'anc_family_pregnancy_pressures', 'anc_mental_health_challenges',\n",
        "    'anc_physical_health_challenges', 'anc_baby_health_birth_worry', 'anc_birth_empowerment'\n",
        "]\n",
        "\n",
        "# You can use this list in your functions or DataFrame creation where these variables are needed.\n"
      ]
    },
    {
      "cell_type": "code",
      "execution_count": null,
      "metadata": {},
      "outputs": [],
      "source": [
        "# Updated titles dictionary with both PNC and ANC variables\n",
        "titles = {\n",
        "    # PNC variables\n",
        "    'pnc_provider_assumptions': \"PNC: Provider made assumptions about me\",\n",
        "    'pnc_provider_help_difficulty': \"PNC: Challenges faced while asking for help from Provider\",\n",
        "    'pnc_resource_representation_difficulty': \"PNC: Challenges faced while finding resources representing me\",\n",
        "    'pnc_info_access_difficulty': \"PNC: Difficult to find info\",\n",
        "    'pnc_healthcare_discrimination': \"PNC: Faced discrimination\",\n",
        "    'pnc_appointment_difficulty': \"PNC: Difficult to get to routine appointments\",\n",
        "    'pnc_house_move_care_difficulty': \"PNC: House move made childcare difficult\",\n",
        "    'pnc_baby_care_difficulty_with_older_children': \"PNC: Difficult to balance with older child\",\n",
        "    'pnc_provider_disrespect': \"PNC: HCP showed disrespect\",\n",
        "    'pnc_family_support_lack': \"PNC: Lacked family support\",\n",
        "    'pnc_relationship_issues': \"PNC: Relationship challenges\",\n",
        "    'pnc_parenting_work_study_balance_difficulty': \"PNC: Difficult balancing parenting with work/study\",\n",
        "    'pnc_financial_insecurity': \"PNC: Felt financially insecure\",\n",
        "    'pnc_peer_parenting_negative_views': \"PNC: Negative peer views affected me\",\n",
        "    'pnc_family_parenting_views_pressure': \"PNC: Family views affected me\",\n",
        "    'pnc_mental_health_challenges': \"PNC: Experienced mental health challenges\",\n",
        "    'pnc_physical_health_challenges': \"PNC: Faced physical health challenges\",\n",
        "    'pnc_baby_health_worry': \"PNC: Was worried about baby health/complications\",\n",
        "    # ANC variables added from the provided plot_bar_chart code instances\n",
        "    # 'anc_antenatal_attendance_ease': \"ANC: Ease of visiting antenatal appointments\",\n",
        "    # 'anc_provider_aware_medical_history': \"ANC: Provider aware of medical history\",\n",
        "    # 'anc_antenatal_decision_involvement': \"ANC: Felt involved in medical decisions\",\n",
        "    # 'anc_mental_health_support_antenatal': \"ANC: Received mental health support\",\n",
        "    # 'anc_long_term_condition_info': \"ANC: Received long term health condition info\",\n",
        "    # 'anc_pregnancy_condition_info': \"ANC: Received pregnancy health condition info\",\n",
        "    # 'anc_baby_feeding_info_pregnancy': \"ANC: Received feeding info\",\n",
        "    'anc_provider_assumptions': \"ANC: Provider made assumptions about me\",\n",
        "    'anc_provider_help_challenges': \"ANC: Challenges faced while asking for help from Provider\",\n",
        "    'anc_resource_represent_difficulty': \"ANC: Challenges faced while finding resources representing me\",\n",
        "    'anc_info_find_difficulty': \"ANC: Difficult to find info\",\n",
        "    'anc_healthcare_discrimination': \"ANC: Faced discrimination\",\n",
        "    'anc_routine_appointment_difficulty': \"ANC: Difficult to get to routine appointments\",\n",
        "    'anc_moved_house_care_difficulty': \"ANC: House move made childcare difficult\",\n",
        "    'anc_pregnancy_balance_care_children': \"ANC: Difficult to balance with older child\",\n",
        "    'anc_provider_disrespect': \"ANC: HCP showed disrespect\",\n",
        "    'anc_lack_family_support': \"ANC: Lacked family support\",\n",
        "    'anc_relationship_challenges': \"ANC: Relationship challenges\",\n",
        "    'anc_financial_insecurity': \"ANC: Felt financially insecure\",\n",
        "    'anc_pregnancy_balance_work_study': \"ANC: Difficult balancing pregnancy with work/study\",\n",
        "    'anc_work_study_return_worry': \"ANC: Worried about returning to work\",\n",
        "    'anc_peer_pregnancy_negative_views': \"ANC: Negative peer views affected me\",\n",
        "    'anc_family_pregnancy_pressures': \"ANC: Family views affected me\",\n",
        "    'anc_mental_health_challenges': \"ANC: Experienced mental health challenges\",\n",
        "    'anc_physical_health_challenges': \"ANC: Faced physical health challenges\",\n",
        "    'anc_baby_health_birth_worry': \"ANC: Was worried about baby health/ complications\",\n",
        "    # 'anc_birth_empowerment': \"ANC: Felt empowered about taking care\"\n",
        "}\n",
        "\n",
        "# You can convert this dictionary to DataFrame the same way as previously shown if needed.\n"
      ]
    },
    {
      "cell_type": "code",
      "execution_count": null,
      "metadata": {},
      "outputs": [],
      "source": [
        "generate_all_charts(df_encoded, variables_to_plot, 'is_not_white', titles)"
      ]
    },
    {
      "cell_type": "code",
      "execution_count": null,
      "metadata": {
        "colab": {
          "base_uri": "https://localhost:8080/"
        },
        "id": "uxmwsDg0pImY",
        "outputId": "faa13d5d-37f2-45b3-941e-c6fbf5b3953a"
      },
      "outputs": [],
      "source": [
        "# Define the set of specific levels to look for\n",
        "levels_set = {\"Strongly Disagree\", \"Disagree\", \"Neutral\", \"Agree\", \"Strongly Agree\", \"Other\"}\n",
        "\n",
        "# Initialize an empty list to store columns that contain these levels\n",
        "columns_with_levels = []\n",
        "\n",
        "# Iterate over each column in the DataFrame\n",
        "for column in df_encoded.columns:\n",
        "    # Check if the column is of type object or categorical (which can hold string labels)\n",
        "    if df_encoded[column].dtype == 'object' or pd.api.types.is_categorical_dtype(df_encoded[column]):\n",
        "        # Check if the set of unique values in the column is a subset of the levels_set\n",
        "        if set(df_encoded[column].dropna().unique()).issubset(levels_set):\n",
        "            columns_with_levels.append(column)\n",
        "\n",
        "# Print the list of columns that match the criteria\n",
        "print(\"Columns containing specified levels:\", columns_with_levels)"
      ]
    },
    {
      "cell_type": "code",
      "execution_count": null,
      "metadata": {},
      "outputs": [],
      "source": [
        "print(df_encoded['postnatal_professional_support_help'].value_counts())\n",
        "order_list_yessometimes"
      ]
    },
    {
      "cell_type": "code",
      "execution_count": null,
      "metadata": {},
      "outputs": [],
      "source": [
        "plot_bar_charts(df_encoded, 'postnatal_decision_involvement',\n",
        "                         ['Yes', 'Yes, sometimes', 'No',\"Don't know/can't remember\", \"Other\"],\n",
        "                         False, 'is_not_white', 'PNC: Felt Involved in Decisions about Own Health', 'Response', 'Percentage of Responses')"
      ]
    },
    {
      "cell_type": "code",
      "execution_count": null,
      "metadata": {},
      "outputs": [],
      "source": [
        "plot_bar_charts(df_encoded, 'postnatal_decision_involvement',\n",
        "                         ['Yes', 'Yes, sometimes', 'No',\"Don't know/can't remember\", \"Other\"],\n",
        "                         True, 'is_not_white', 'PNC: Felt Involved in Decisions about Own Health', 'Response', 'Percentage of Responses')"
      ]
    },
    {
      "cell_type": "code",
      "execution_count": null,
      "metadata": {},
      "outputs": [],
      "source": [
        "plot_bar_charts(df_encoded, 'postnatal_baby_medical_care_decisions',\n",
        "                         ['Yes', 'Yes, sometimes', 'No',\"Don't know/can't remember\", \"My baby did not need medical care\"],\n",
        "                         False, 'is_not_white', 'PNC: Felt Involved in Decisions about Baby Medical Care', 'Response', 'Percentage of Responses')"
      ]
    },
    {
      "cell_type": "code",
      "execution_count": null,
      "metadata": {},
      "outputs": [],
      "source": [
        "plot_bar_charts(df_encoded, 'postnatal_baby_medical_care_decisions',\n",
        "                         ['Yes', 'Yes, sometimes', 'No',\"Don't know/can't remember\", \"My baby did not need medical care\"],\n",
        "                         True, 'is_not_white', 'PNC: Felt Involved in Decisions about Baby Medical Care', 'Response', 'Percentage of Responses')"
      ]
    },
    {
      "cell_type": "code",
      "execution_count": null,
      "metadata": {},
      "outputs": [],
      "source": [
        "plot_bar_charts(df_encoded, 'postnatal_professional_support_help',\n",
        "                         ['Yes', 'Yes, sometimes', 'No',\"I did not contact a health professional for support\"],\n",
        "                         False, 'is_not_white', 'PNC: Received appropriate help from HCP when requested', 'Response', 'Percentage of Responses')"
      ]
    },
    {
      "cell_type": "code",
      "execution_count": null,
      "metadata": {},
      "outputs": [],
      "source": [
        "plot_bar_charts(df_encoded, 'postnatal_professional_support_help',\n",
        "                         ['Yes', 'Yes, sometimes', 'No', \"\"\"I did not contact a health professional for support\"\"\"],\n",
        "                         True, 'is_not_white', 'PNC: Received appropriate help from HCP when requested', 'Response', 'Percentage of Responses')"
      ]
    },
    {
      "cell_type": "code",
      "execution_count": null,
      "metadata": {},
      "outputs": [],
      "source": [
        "plot_bar_charts(df_encoded, 'postnatal_home_professional_visit',\n",
        "                         ['Yes', 'Yes, but I had to contact them to ask them to visit', 'No, I visited the health professional / saw a health professional in clinic',\"No, I was visiting or staying near my baby in a neonatal unit (NNU, NICU, SCBU)\",\"No, but I have had a phone / video call\"],\n",
        "                         False, 'is_not_white', \"PNC: Have had HCP visit\", 'Response', 'Percentage of Responses')"
      ]
    },
    {
      "cell_type": "code",
      "execution_count": null,
      "metadata": {},
      "outputs": [],
      "source": [
        "plot_bar_charts(df_encoded, 'postnatal_home_professional_visit',\n",
        "                         ['Yes', 'Yes, but I had to contact them to ask them to visit', 'No, I visited the health professional / saw a health professional in clinic',\"No, I was visiting or staying near my baby in a neonatal unit (NNU, NICU, SCBU)\",\"No, but I have had a phone / video call\"],\n",
        "                         True, 'is_not_white', \"PNC: Have had HCP visit\", 'Response', 'Percentage of Responses')"
      ]
    },
    {
      "cell_type": "code",
      "execution_count": null,
      "metadata": {},
      "outputs": [],
      "source": [
        "df_encoded['postnatal_routine_appointments_provider'].value_counts()"
      ]
    },
    {
      "cell_type": "code",
      "execution_count": null,
      "metadata": {},
      "outputs": [],
      "source": []
    },
    {
      "cell_type": "code",
      "execution_count": null,
      "metadata": {},
      "outputs": [],
      "source": []
    },
    {
      "cell_type": "code",
      "execution_count": null,
      "metadata": {},
      "outputs": [],
      "source": []
    },
    {
      "cell_type": "code",
      "execution_count": null,
      "metadata": {},
      "outputs": [],
      "source": []
    },
    {
      "cell_type": "code",
      "execution_count": null,
      "metadata": {},
      "outputs": [],
      "source": []
    },
    {
      "cell_type": "code",
      "execution_count": null,
      "metadata": {},
      "outputs": [],
      "source": []
    },
    {
      "cell_type": "code",
      "execution_count": null,
      "metadata": {},
      "outputs": [],
      "source": []
    },
    {
      "cell_type": "code",
      "execution_count": null,
      "metadata": {},
      "outputs": [],
      "source": []
    },
    {
      "cell_type": "code",
      "execution_count": null,
      "metadata": {},
      "outputs": [],
      "source": []
    },
    {
      "cell_type": "code",
      "execution_count": null,
      "metadata": {},
      "outputs": [],
      "source": [
        "# # List of dependent variables to run OLS regression on\n",
        "# variables_to_regress = [\n",
        "#     'pnc_provider_assumptions', 'pnc_provider_help_difficulty', 'pnc_resource_representation_difficulty', \n",
        "#     # Include other variables as needed\n",
        "# ]"
      ]
    },
    {
      "cell_type": "code",
      "execution_count": null,
      "metadata": {},
      "outputs": [],
      "source": [
        "# def convert_responses_to_numeric(df, var):\n",
        "#     \"\"\"Convert categorical responses to numeric scale.\"\"\"\n",
        "#     response_mapping = {\n",
        "#         \"Strongly Disagree\": 1,\n",
        "#         \"Disagree\": 2,\n",
        "#         \"Neutral\": 3,\n",
        "#         \"Agree\": 4,\n",
        "#         \"Strongly Agree\": 5\n",
        "#     }\n",
        "#     df[var] = df[var].replace(response_mapping)\n",
        "#     return df\n",
        "\n",
        "# def run_ols_regressions(df, dependent_vars, independent_vars):\n",
        "#     results = []\n",
        "#     for var in dependent_vars:\n",
        "#         # Filter out rows where the dependent variable is 'Other' and map responses to numeric\n",
        "#         df_filtered = df[df[var] != 'Other']\n",
        "#         df_filtered = convert_responses_to_numeric(df_filtered, var)\n",
        "#         print(df_filtered[var].value_counts())\n",
        "\n",
        "#         # Ensure that 'pregnancy_stage' is treated as categorical\n",
        "#         if 'pregnancy_stage' in independent_vars:\n",
        "#             df_filtered = pd.get_dummies(df_filtered, columns=['pregnancy_stage'], drop_first=True)\n",
        "#             print(df_filtered['pregnancy_stage'].value_counts())\n",
        "\n",
        "#         # Define the formula for the OLS regression\n",
        "#         formula = f\"{var} ~ {' + '.join(independent_vars)}\"\n",
        "\n",
        "#         # Run the OLS regression\n",
        "#         model = smf.ols(formula, data=df_filtered).fit()\n",
        "\n",
        "#         # Collect the result (coefficient and p-values) with significance stars\n",
        "#         summary = model.summary2().tables[1]\n",
        "#         summary['Coef_Str'] = summary['Coef'].round(3).astype(str) + summary['P>|t|'].apply(lambda x: '***' if x < 0.01 else '**' if x < 0.05 else '*' if x < 0.1 else '')\n",
        "\n",
        "#         # Store results\n",
        "#         results.append({\n",
        "#             'Variable': var,\n",
        "#             'Results': summary[['Coef_Str']]\n",
        "#         })\n",
        "\n",
        "#     return results\n",
        "\n",
        "\n",
        "# # Assuming df_encoded is your DataFrame and 'is_not_white', 'pregnancy_stage', 'age' are set\n",
        "# independent_vars = ['is_not_white', 'age', 'pregnancy_stage']  # 'pregnancy_stage' handled separately as dummies\n",
        "# regression_results = run_ols_regressions(df_encoded, variables_to_regress, independent_vars)\n",
        "\n",
        "# # Print the results for each regression\n",
        "# for result in regression_results:\n",
        "#     print(f\"Results for {result['Variable']}:\")\n",
        "#     print(result['Results'])\n",
        "#     print(\"\\n\")\n"
      ]
    },
    {
      "cell_type": "code",
      "execution_count": null,
      "metadata": {},
      "outputs": [],
      "source": [
        "import pandas as pd\n",
        "\n",
        "def descriptive_tables(df, variables_list, levels_order, titles, grouping_variable=None, group=False):\n",
        "    \"\"\"\n",
        "    Generates descriptive tables for given variables showing frequency, percentage, and titles, \n",
        "    including subgroup-specific stats after ensuring data types are appropriate for filtering.\n",
        "    \"\"\"\n",
        "    # Ensure the grouping variable is an integer if it's expected to be used for grouping\n",
        "    if grouping_variable and df[grouping_variable].dtype != 'int':\n",
        "        df[grouping_variable] = pd.to_numeric(df[grouping_variable], errors='coerce')  # Convert to numeric, coercing errors\n",
        "\n",
        "    tables = {}\n",
        "\n",
        "    for variable in variables_list:\n",
        "        # Overall frequency and percentage calculation\n",
        "        counts = df[variable].value_counts().reindex(levels_order, fill_value=0)\n",
        "        percentages = df[variable].value_counts(normalize=True).reindex(levels_order, fill_value=0) * 100\n",
        "        descriptive_df = pd.DataFrame({'Frequency': counts, 'Frequency %': percentages})\n",
        "\n",
        "        if group and grouping_variable:\n",
        "            # Subgroup frequency and percentage calculation\n",
        "            subgroup_counts = df[df[grouping_variable] == 1][variable].value_counts().reindex(levels_order, fill_value=0)\n",
        "            total_subgroup = df[df[grouping_variable] == 1][variable].notna().sum()\n",
        "            subgroup_percentages = (subgroup_counts / total_subgroup * 100).round(2) if total_subgroup > 0 else subgroup_counts * 0\n",
        "\n",
        "            descriptive_df[f'{grouping_variable} Frequency'] = subgroup_counts\n",
        "            descriptive_df[f'{grouping_variable} Frequency %'] = subgroup_percentages.fillna(0)\n",
        "\n",
        "        # Apply styling to DataFrame\n",
        "        styled_df = descriptive_df.style.set_table_styles(\n",
        "            [{'selector': 'th', 'props': [('border', '1px solid black')]},\n",
        "             {'selector': 'td', 'props': [('border', '1px solid grey')]}]\n",
        "        ).format(\"{:.2f}\", subset='Frequency %').background_gradient(cmap='viridis', subset=['Frequency %', 'is_not_white Frequency %'])\n",
        "\n",
        "        variable_title = titles.get(variable, \"No Title Available\")\n",
        "        tables[variable] = {\n",
        "            'DataFrame': styled_df,\n",
        "            'Title': variable_title\n",
        "        }\n",
        "\n",
        "    return tables\n",
        "\n",
        "# Example usage of the function\n",
        "variables_to_describe = list(titles.keys())\n",
        "response_levels_order = [\"Strongly Disagree\", \"Disagree\", \"Neutral\", \"Agree\", \"Strongly Agree\", \"Other\"]\n",
        "\n",
        "# Call the function enabling grouping by 'is_not_white'\n",
        "descriptive_results_grouped = descriptive_tables(df_encoded, variables_to_describe, response_levels_order, titles, grouping_variable='is_not_white', group=True)\n",
        "\n",
        "# Displaying an example table with titles\n",
        "for variable, result in descriptive_results_grouped.items():\n",
        "    print(f\"Frequency table for {result['Title']}:\")\n",
        "    display(result['DataFrame'])\n",
        "    print(\"\\n\")\n"
      ]
    },
    {
      "cell_type": "code",
      "execution_count": null,
      "metadata": {},
      "outputs": [],
      "source": [
        "def single_variable_descriptive_table(df, variable, plot_title, levels_order, grouping_variable=None):\n",
        "    \"\"\"\n",
        "    Generates a frequency and percentage table for a given variable with optional grouping, including gradient fills.\n",
        "    \n",
        "    Args:\n",
        "        df (pd.DataFrame): The data frame containing the data.\n",
        "        variable (str): The variable for which the table is generated.\n",
        "        plot_title (str): Title for the table.\n",
        "        levels_order (list): The order of response levels for the variable.\n",
        "        grouping_variable (str, optional): Column name of the grouping variable.\n",
        "    \n",
        "    Returns:\n",
        "        pd.DataFrame: A DataFrame styled with frequency and percentage.\n",
        "    \"\"\"\n",
        "    # Prepare overall frequency and percentage\n",
        "    counts = df[variable].value_counts(dropna=False).reindex(levels_order, fill_value=0)\n",
        "    percentages = (counts / counts.sum() * 100).fillna(0)\n",
        "\n",
        "    # Prepare DataFrame\n",
        "    descriptive_df = pd.DataFrame({\n",
        "        'Frequency': counts,\n",
        "        'Frequency %': percentages\n",
        "    })\n",
        "\n",
        "    if grouping_variable and grouping_variable in df.columns:\n",
        "        # Subgroup calculation\n",
        "        subgroup_counts = df[df[grouping_variable] == 1][variable].value_counts(dropna=False).reindex(levels_order, fill_value=0)\n",
        "        subgroup_percentages = (subgroup_counts / subgroup_counts.sum() * 100).fillna(0)\n",
        "        \n",
        "        descriptive_df[f'Non-White Ethnic Groups Frequency'] = subgroup_counts\n",
        "        descriptive_df[f'Non-White Ethnic Groups Frequency %'] = subgroup_percentages\n",
        "\n",
        "    # Add total row\n",
        "    descriptive_df.loc['Total'] = descriptive_df.sum(numeric_only=True)\n",
        "\n",
        "    # Apply gradient fill and border styling to the DataFrame\n",
        "    styled_df = descriptive_df.style.background_gradient(subset=['Frequency %', 'Non-White Ethnic Groups Frequency %'], cmap='viridis')\n",
        "    styled_df = styled_df.set_properties(**{'border': '1px solid black', 'text-align': 'left'})\n",
        "    styled_df.set_table_styles([{'selector': 'th', 'props': [('border', '1px solid black')]}])\n",
        "\n",
        "    return styled_df\n",
        "\n"
      ]
    },
    {
      "cell_type": "code",
      "execution_count": null,
      "metadata": {},
      "outputs": [],
      "source": [
        "# Usage example:\n",
        "variable_name = 'demo_birth_year'\n",
        "plot_title = 'Distribution of Birth Years'\n",
        "levels_order = sorted(df_encoded[variable_name].unique())\n",
        "\n",
        "# Ensure 'is_not_white' is a numeric column for filtering purposes\n",
        "df_encoded['is_not_white'] = pd.to_numeric(df_encoded['is_not_white'], errors='coerce')\n",
        "\n",
        "# Generate the table\n",
        "styled_table = single_variable_descriptive_table(df_encoded, variable_name, plot_title, levels_order, grouping_variable='is_not_white')\n",
        "styled_table  # This will display the styled table if you are using a Jupyter Notebook or similar environment"
      ]
    },
    {
      "cell_type": "code",
      "execution_count": null,
      "metadata": {},
      "outputs": [],
      "source": [
        "# # Define the variables to summarize\n",
        "# demo_variables = [\n",
        "#     'demo_birth_year', 'demo_previous_pregnancies_count', 'demo_current_children_count',\n",
        "#      'demo_pregnancy_related_conditions', 'demo_religion',\n",
        "#     'demo_main_language_english', 'demo_frequent_conversation_languages', 'demo_readable_languages',\n",
        "#     'demo_post_code', 'demo_uk_citizenship', 'demo_anya_app_usage',\n",
        "#     'demo_additional_maternity_experience', 'demo_email_address'\n",
        "# ]\n",
        "\n",
        "# # Generate summary statistics for numerical variables\n",
        "# summary_numerical = df_encoded[demo_variables].describe()\n",
        "\n",
        "# # Frequency counts for categorical variables\n",
        "# summary_categorical = df_encoded[demo_variables].astype('object').describe(include='all')\n",
        "\n",
        "# # Save or print the summary\n",
        "# print(summary_numerical)\n",
        "# print(summary_categorical)\n"
      ]
    },
    {
      "cell_type": "code",
      "execution_count": null,
      "metadata": {},
      "outputs": [],
      "source": [
        "descriptive_results_grouped = descriptive_tables(df_encoded, variables_to_describe, response_levels_order, titles, grouping_variable='is_not_white', group=True)"
      ]
    }
  ],
  "metadata": {
    "colab": {
      "provenance": []
    },
    "kernelspec": {
      "display_name": "bonoai",
      "language": "python",
      "name": "python3"
    },
    "language_info": {
      "codemirror_mode": {
        "name": "ipython",
        "version": 3
      },
      "file_extension": ".py",
      "mimetype": "text/x-python",
      "name": "python",
      "nbconvert_exporter": "python",
      "pygments_lexer": "ipython3",
      "version": "3.11.7"
    },
    "widgets": {
      "application/vnd.jupyter.widget-state+json": {
        "00300084de4c45d6afbf928ce4d59281": {
          "model_module": "@jupyter-widgets/controls",
          "model_module_version": "1.5.0",
          "model_name": "ProgressStyleModel",
          "state": {
            "_model_module": "@jupyter-widgets/controls",
            "_model_module_version": "1.5.0",
            "_model_name": "ProgressStyleModel",
            "_view_count": null,
            "_view_module": "@jupyter-widgets/base",
            "_view_module_version": "1.2.0",
            "_view_name": "StyleView",
            "bar_color": null,
            "description_width": ""
          }
        },
        "118b107b1ee5484b8a8cd06b1506dd47": {
          "model_module": "@jupyter-widgets/controls",
          "model_module_version": "1.5.0",
          "model_name": "HTMLModel",
          "state": {
            "_dom_classes": [],
            "_model_module": "@jupyter-widgets/controls",
            "_model_module_version": "1.5.0",
            "_model_name": "HTMLModel",
            "_view_count": null,
            "_view_module": "@jupyter-widgets/controls",
            "_view_module_version": "1.5.0",
            "_view_name": "HTMLView",
            "description": "",
            "description_tooltip": null,
            "layout": "IPY_MODEL_e0bc8490ea524bb9aa0e5a41d0c13c95",
            "placeholder": "​",
            "style": "IPY_MODEL_a81b089f31aa4702a220d1eb4a1c121c",
            "value": " [100%]   00:38 -&gt; (00:00 left)"
          }
        },
        "1425e703554048b8bdbfd62e961c6888": {
          "model_module": "@jupyter-widgets/base",
          "model_module_version": "1.2.0",
          "model_name": "LayoutModel",
          "state": {
            "_model_module": "@jupyter-widgets/base",
            "_model_module_version": "1.2.0",
            "_model_name": "LayoutModel",
            "_view_count": null,
            "_view_module": "@jupyter-widgets/base",
            "_view_module_version": "1.2.0",
            "_view_name": "LayoutView",
            "align_content": null,
            "align_items": null,
            "align_self": null,
            "border": null,
            "bottom": null,
            "display": "inline-flex",
            "flex": null,
            "flex_flow": "row wrap",
            "grid_area": null,
            "grid_auto_columns": null,
            "grid_auto_flow": null,
            "grid_auto_rows": null,
            "grid_column": null,
            "grid_gap": null,
            "grid_row": null,
            "grid_template_areas": null,
            "grid_template_columns": null,
            "grid_template_rows": null,
            "height": null,
            "justify_content": null,
            "justify_items": null,
            "left": null,
            "margin": null,
            "max_height": null,
            "max_width": null,
            "min_height": null,
            "min_width": null,
            "object_fit": null,
            "object_position": null,
            "order": null,
            "overflow": null,
            "overflow_x": null,
            "overflow_y": null,
            "padding": null,
            "right": null,
            "top": null,
            "visibility": null,
            "width": "100%"
          }
        },
        "2327ffe203b74ecb9a9ee132014f504a": {
          "model_module": "@jupyter-widgets/controls",
          "model_module_version": "1.5.0",
          "model_name": "FloatProgressModel",
          "state": {
            "_dom_classes": [],
            "_model_module": "@jupyter-widgets/controls",
            "_model_module_version": "1.5.0",
            "_model_name": "FloatProgressModel",
            "_view_count": null,
            "_view_module": "@jupyter-widgets/controls",
            "_view_module_version": "1.5.0",
            "_view_name": "ProgressView",
            "bar_style": "success",
            "description": "",
            "description_tooltip": null,
            "layout": "IPY_MODEL_49f7878556e9403cb5ca37888a1ee151",
            "max": 143,
            "min": 0,
            "orientation": "horizontal",
            "style": "IPY_MODEL_00300084de4c45d6afbf928ce4d59281",
            "value": 143
          }
        },
        "3dfacbdda6a74740a62e95f0c7b82a0f": {
          "model_module": "@jupyter-widgets/controls",
          "model_module_version": "1.5.0",
          "model_name": "DescriptionStyleModel",
          "state": {
            "_model_module": "@jupyter-widgets/controls",
            "_model_module_version": "1.5.0",
            "_model_name": "DescriptionStyleModel",
            "_view_count": null,
            "_view_module": "@jupyter-widgets/base",
            "_view_module_version": "1.2.0",
            "_view_name": "StyleView",
            "description_width": ""
          }
        },
        "4575b6b4273b45929b3dd9df9fd3822d": {
          "model_module": "@jupyter-widgets/base",
          "model_module_version": "1.2.0",
          "model_name": "LayoutModel",
          "state": {
            "_model_module": "@jupyter-widgets/base",
            "_model_module_version": "1.2.0",
            "_model_name": "LayoutModel",
            "_view_count": null,
            "_view_module": "@jupyter-widgets/base",
            "_view_module_version": "1.2.0",
            "_view_name": "LayoutView",
            "align_content": null,
            "align_items": null,
            "align_self": null,
            "border": null,
            "bottom": null,
            "display": null,
            "flex": null,
            "flex_flow": null,
            "grid_area": null,
            "grid_auto_columns": null,
            "grid_auto_flow": null,
            "grid_auto_rows": null,
            "grid_column": null,
            "grid_gap": null,
            "grid_row": null,
            "grid_template_areas": null,
            "grid_template_columns": null,
            "grid_template_rows": null,
            "height": null,
            "justify_content": null,
            "justify_items": null,
            "left": null,
            "margin": null,
            "max_height": null,
            "max_width": null,
            "min_height": null,
            "min_width": null,
            "object_fit": null,
            "object_position": null,
            "order": null,
            "overflow": null,
            "overflow_x": null,
            "overflow_y": null,
            "padding": null,
            "right": null,
            "top": null,
            "visibility": null,
            "width": null
          }
        },
        "47835c3cd0c04b9eb91ee150f6ff248b": {
          "model_module": "@jupyter-widgets/base",
          "model_module_version": "1.2.0",
          "model_name": "LayoutModel",
          "state": {
            "_model_module": "@jupyter-widgets/base",
            "_model_module_version": "1.2.0",
            "_model_name": "LayoutModel",
            "_view_count": null,
            "_view_module": "@jupyter-widgets/base",
            "_view_module_version": "1.2.0",
            "_view_name": "LayoutView",
            "align_content": null,
            "align_items": null,
            "align_self": null,
            "border": null,
            "bottom": null,
            "display": null,
            "flex": null,
            "flex_flow": null,
            "grid_area": null,
            "grid_auto_columns": null,
            "grid_auto_flow": null,
            "grid_auto_rows": null,
            "grid_column": null,
            "grid_gap": null,
            "grid_row": null,
            "grid_template_areas": null,
            "grid_template_columns": null,
            "grid_template_rows": null,
            "height": null,
            "justify_content": null,
            "justify_items": null,
            "left": null,
            "margin": null,
            "max_height": null,
            "max_width": null,
            "min_height": null,
            "min_width": null,
            "object_fit": null,
            "object_position": null,
            "order": null,
            "overflow": null,
            "overflow_x": null,
            "overflow_y": null,
            "padding": null,
            "right": null,
            "top": null,
            "visibility": null,
            "width": null
          }
        },
        "49ab10e99b414dab9c2bd96ff5a97a85": {
          "model_module": "@jupyter-widgets/controls",
          "model_module_version": "1.5.0",
          "model_name": "FloatProgressModel",
          "state": {
            "_dom_classes": [],
            "_model_module": "@jupyter-widgets/controls",
            "_model_module_version": "1.5.0",
            "_model_name": "FloatProgressModel",
            "_view_count": null,
            "_view_module": "@jupyter-widgets/controls",
            "_view_module_version": "1.5.0",
            "_view_name": "ProgressView",
            "bar_style": "",
            "description": "",
            "description_tooltip": null,
            "layout": "IPY_MODEL_f057af9b52cf481fb46ed46cda99c1c9",
            "max": 146,
            "min": 0,
            "orientation": "horizontal",
            "style": "IPY_MODEL_5f770a9b699a4dfaa12515f58f19000c",
            "value": 68
          }
        },
        "49f7878556e9403cb5ca37888a1ee151": {
          "model_module": "@jupyter-widgets/base",
          "model_module_version": "1.2.0",
          "model_name": "LayoutModel",
          "state": {
            "_model_module": "@jupyter-widgets/base",
            "_model_module_version": "1.2.0",
            "_model_name": "LayoutModel",
            "_view_count": null,
            "_view_module": "@jupyter-widgets/base",
            "_view_module_version": "1.2.0",
            "_view_name": "LayoutView",
            "align_content": null,
            "align_items": null,
            "align_self": null,
            "border": null,
            "bottom": null,
            "display": null,
            "flex": "2",
            "flex_flow": null,
            "grid_area": null,
            "grid_auto_columns": null,
            "grid_auto_flow": null,
            "grid_auto_rows": null,
            "grid_column": null,
            "grid_gap": null,
            "grid_row": null,
            "grid_template_areas": null,
            "grid_template_columns": null,
            "grid_template_rows": null,
            "height": null,
            "justify_content": null,
            "justify_items": null,
            "left": null,
            "margin": null,
            "max_height": null,
            "max_width": null,
            "min_height": null,
            "min_width": null,
            "object_fit": null,
            "object_position": null,
            "order": null,
            "overflow": null,
            "overflow_x": null,
            "overflow_y": null,
            "padding": null,
            "right": null,
            "top": null,
            "visibility": null,
            "width": null
          }
        },
        "57ec856774bd4add88615756119259ab": {
          "model_module": "@jupyter-widgets/controls",
          "model_module_version": "1.5.0",
          "model_name": "HBoxModel",
          "state": {
            "_dom_classes": [],
            "_model_module": "@jupyter-widgets/controls",
            "_model_module_version": "1.5.0",
            "_model_name": "HBoxModel",
            "_view_count": null,
            "_view_module": "@jupyter-widgets/controls",
            "_view_module_version": "1.5.0",
            "_view_name": "HBoxView",
            "box_style": "",
            "children": [
              "IPY_MODEL_cb7f9ebb781b46e282b2220546beaece",
              "IPY_MODEL_49ab10e99b414dab9c2bd96ff5a97a85",
              "IPY_MODEL_70c5f02015ea428c84c7d2127bb28803"
            ],
            "layout": "IPY_MODEL_aac98906cbbc4aa797007ab3c3c1a58a"
          }
        },
        "5f770a9b699a4dfaa12515f58f19000c": {
          "model_module": "@jupyter-widgets/controls",
          "model_module_version": "1.5.0",
          "model_name": "ProgressStyleModel",
          "state": {
            "_model_module": "@jupyter-widgets/controls",
            "_model_module_version": "1.5.0",
            "_model_name": "ProgressStyleModel",
            "_view_count": null,
            "_view_module": "@jupyter-widgets/base",
            "_view_module_version": "1.2.0",
            "_view_name": "StyleView",
            "bar_color": null,
            "description_width": ""
          }
        },
        "67fddb101a224126af44555cc9fb14df": {
          "model_module": "@jupyter-widgets/controls",
          "model_module_version": "1.5.0",
          "model_name": "DescriptionStyleModel",
          "state": {
            "_model_module": "@jupyter-widgets/controls",
            "_model_module_version": "1.5.0",
            "_model_name": "DescriptionStyleModel",
            "_view_count": null,
            "_view_module": "@jupyter-widgets/base",
            "_view_module_version": "1.2.0",
            "_view_name": "StyleView",
            "description_width": ""
          }
        },
        "6c462d880b014fb4bd4ecf5895ef773f": {
          "model_module": "@jupyter-widgets/controls",
          "model_module_version": "1.5.0",
          "model_name": "HBoxModel",
          "state": {
            "_dom_classes": [],
            "_model_module": "@jupyter-widgets/controls",
            "_model_module_version": "1.5.0",
            "_model_name": "HBoxModel",
            "_view_count": null,
            "_view_module": "@jupyter-widgets/controls",
            "_view_module_version": "1.5.0",
            "_view_name": "HBoxView",
            "box_style": "",
            "children": [
              "IPY_MODEL_a679ab6cec68451fa0d64e55e9e1eccf",
              "IPY_MODEL_2327ffe203b74ecb9a9ee132014f504a",
              "IPY_MODEL_118b107b1ee5484b8a8cd06b1506dd47"
            ],
            "layout": "IPY_MODEL_1425e703554048b8bdbfd62e961c6888"
          }
        },
        "70c5f02015ea428c84c7d2127bb28803": {
          "model_module": "@jupyter-widgets/controls",
          "model_module_version": "1.5.0",
          "model_name": "HTMLModel",
          "state": {
            "_dom_classes": [],
            "_model_module": "@jupyter-widgets/controls",
            "_model_module_version": "1.5.0",
            "_model_name": "HTMLModel",
            "_view_count": null,
            "_view_module": "@jupyter-widgets/controls",
            "_view_module_version": "1.5.0",
            "_view_name": "HTMLView",
            "description": "",
            "description_tooltip": null,
            "layout": "IPY_MODEL_4575b6b4273b45929b3dd9df9fd3822d",
            "placeholder": "​",
            "style": "IPY_MODEL_3dfacbdda6a74740a62e95f0c7b82a0f",
            "value": " [ 47%]   00:23 -&gt; (00:21 left)"
          }
        },
        "a679ab6cec68451fa0d64e55e9e1eccf": {
          "model_module": "@jupyter-widgets/controls",
          "model_module_version": "1.5.0",
          "model_name": "HTMLModel",
          "state": {
            "_dom_classes": [],
            "_model_module": "@jupyter-widgets/controls",
            "_model_module_version": "1.5.0",
            "_model_name": "HTMLModel",
            "_view_count": null,
            "_view_module": "@jupyter-widgets/controls",
            "_view_module_version": "1.5.0",
            "_view_name": "HTMLView",
            "description": "",
            "description_tooltip": null,
            "layout": "IPY_MODEL_47835c3cd0c04b9eb91ee150f6ff248b",
            "placeholder": "​",
            "style": "IPY_MODEL_67fddb101a224126af44555cc9fb14df",
            "value": "Feature: 142 - Submitted at                  "
          }
        },
        "a81b089f31aa4702a220d1eb4a1c121c": {
          "model_module": "@jupyter-widgets/controls",
          "model_module_version": "1.5.0",
          "model_name": "DescriptionStyleModel",
          "state": {
            "_model_module": "@jupyter-widgets/controls",
            "_model_module_version": "1.5.0",
            "_model_name": "DescriptionStyleModel",
            "_view_count": null,
            "_view_module": "@jupyter-widgets/base",
            "_view_module_version": "1.2.0",
            "_view_name": "StyleView",
            "description_width": ""
          }
        },
        "aac98906cbbc4aa797007ab3c3c1a58a": {
          "model_module": "@jupyter-widgets/base",
          "model_module_version": "1.2.0",
          "model_name": "LayoutModel",
          "state": {
            "_model_module": "@jupyter-widgets/base",
            "_model_module_version": "1.2.0",
            "_model_name": "LayoutModel",
            "_view_count": null,
            "_view_module": "@jupyter-widgets/base",
            "_view_module_version": "1.2.0",
            "_view_name": "LayoutView",
            "align_content": null,
            "align_items": null,
            "align_self": null,
            "border": null,
            "bottom": null,
            "display": "inline-flex",
            "flex": null,
            "flex_flow": "row wrap",
            "grid_area": null,
            "grid_auto_columns": null,
            "grid_auto_flow": null,
            "grid_auto_rows": null,
            "grid_column": null,
            "grid_gap": null,
            "grid_row": null,
            "grid_template_areas": null,
            "grid_template_columns": null,
            "grid_template_rows": null,
            "height": null,
            "justify_content": null,
            "justify_items": null,
            "left": null,
            "margin": null,
            "max_height": null,
            "max_width": null,
            "min_height": null,
            "min_width": null,
            "object_fit": null,
            "object_position": null,
            "order": null,
            "overflow": null,
            "overflow_x": null,
            "overflow_y": null,
            "padding": null,
            "right": null,
            "top": null,
            "visibility": null,
            "width": "100%"
          }
        },
        "b2c16ee7346f4a74ac1e1df6225c5eca": {
          "model_module": "@jupyter-widgets/controls",
          "model_module_version": "1.5.0",
          "model_name": "DescriptionStyleModel",
          "state": {
            "_model_module": "@jupyter-widgets/controls",
            "_model_module_version": "1.5.0",
            "_model_name": "DescriptionStyleModel",
            "_view_count": null,
            "_view_module": "@jupyter-widgets/base",
            "_view_module_version": "1.2.0",
            "_view_name": "StyleView",
            "description_width": ""
          }
        },
        "b4362cae5db542daadc01ccf22b7e7c3": {
          "model_module": "@jupyter-widgets/base",
          "model_module_version": "1.2.0",
          "model_name": "LayoutModel",
          "state": {
            "_model_module": "@jupyter-widgets/base",
            "_model_module_version": "1.2.0",
            "_model_name": "LayoutModel",
            "_view_count": null,
            "_view_module": "@jupyter-widgets/base",
            "_view_module_version": "1.2.0",
            "_view_name": "LayoutView",
            "align_content": null,
            "align_items": null,
            "align_self": null,
            "border": null,
            "bottom": null,
            "display": null,
            "flex": null,
            "flex_flow": null,
            "grid_area": null,
            "grid_auto_columns": null,
            "grid_auto_flow": null,
            "grid_auto_rows": null,
            "grid_column": null,
            "grid_gap": null,
            "grid_row": null,
            "grid_template_areas": null,
            "grid_template_columns": null,
            "grid_template_rows": null,
            "height": null,
            "justify_content": null,
            "justify_items": null,
            "left": null,
            "margin": null,
            "max_height": null,
            "max_width": null,
            "min_height": null,
            "min_width": null,
            "object_fit": null,
            "object_position": null,
            "order": null,
            "overflow": null,
            "overflow_x": null,
            "overflow_y": null,
            "padding": null,
            "right": null,
            "top": null,
            "visibility": null,
            "width": null
          }
        },
        "cb7f9ebb781b46e282b2220546beaece": {
          "model_module": "@jupyter-widgets/controls",
          "model_module_version": "1.5.0",
          "model_name": "HTMLModel",
          "state": {
            "_dom_classes": [],
            "_model_module": "@jupyter-widgets/controls",
            "_model_module_version": "1.5.0",
            "_model_name": "HTMLModel",
            "_view_count": null,
            "_view_module": "@jupyter-widgets/controls",
            "_view_module_version": "1.5.0",
            "_view_name": "HTMLView",
            "description": "",
            "description_tooltip": null,
            "layout": "IPY_MODEL_b4362cae5db542daadc01ccf22b7e7c3",
            "placeholder": "​",
            "style": "IPY_MODEL_b2c16ee7346f4a74ac1e1df6225c5eca",
            "value": "Feature: postnatal_provider_preference       "
          }
        },
        "e0bc8490ea524bb9aa0e5a41d0c13c95": {
          "model_module": "@jupyter-widgets/base",
          "model_module_version": "1.2.0",
          "model_name": "LayoutModel",
          "state": {
            "_model_module": "@jupyter-widgets/base",
            "_model_module_version": "1.2.0",
            "_model_name": "LayoutModel",
            "_view_count": null,
            "_view_module": "@jupyter-widgets/base",
            "_view_module_version": "1.2.0",
            "_view_name": "LayoutView",
            "align_content": null,
            "align_items": null,
            "align_self": null,
            "border": null,
            "bottom": null,
            "display": null,
            "flex": null,
            "flex_flow": null,
            "grid_area": null,
            "grid_auto_columns": null,
            "grid_auto_flow": null,
            "grid_auto_rows": null,
            "grid_column": null,
            "grid_gap": null,
            "grid_row": null,
            "grid_template_areas": null,
            "grid_template_columns": null,
            "grid_template_rows": null,
            "height": null,
            "justify_content": null,
            "justify_items": null,
            "left": null,
            "margin": null,
            "max_height": null,
            "max_width": null,
            "min_height": null,
            "min_width": null,
            "object_fit": null,
            "object_position": null,
            "order": null,
            "overflow": null,
            "overflow_x": null,
            "overflow_y": null,
            "padding": null,
            "right": null,
            "top": null,
            "visibility": null,
            "width": null
          }
        },
        "f057af9b52cf481fb46ed46cda99c1c9": {
          "model_module": "@jupyter-widgets/base",
          "model_module_version": "1.2.0",
          "model_name": "LayoutModel",
          "state": {
            "_model_module": "@jupyter-widgets/base",
            "_model_module_version": "1.2.0",
            "_model_name": "LayoutModel",
            "_view_count": null,
            "_view_module": "@jupyter-widgets/base",
            "_view_module_version": "1.2.0",
            "_view_name": "LayoutView",
            "align_content": null,
            "align_items": null,
            "align_self": null,
            "border": null,
            "bottom": null,
            "display": null,
            "flex": "2",
            "flex_flow": null,
            "grid_area": null,
            "grid_auto_columns": null,
            "grid_auto_flow": null,
            "grid_auto_rows": null,
            "grid_column": null,
            "grid_gap": null,
            "grid_row": null,
            "grid_template_areas": null,
            "grid_template_columns": null,
            "grid_template_rows": null,
            "height": null,
            "justify_content": null,
            "justify_items": null,
            "left": null,
            "margin": null,
            "max_height": null,
            "max_width": null,
            "min_height": null,
            "min_width": null,
            "object_fit": null,
            "object_position": null,
            "order": null,
            "overflow": null,
            "overflow_x": null,
            "overflow_y": null,
            "padding": null,
            "right": null,
            "top": null,
            "visibility": null,
            "width": null
          }
        }
      }
    }
  },
  "nbformat": 4,
  "nbformat_minor": 0
}
